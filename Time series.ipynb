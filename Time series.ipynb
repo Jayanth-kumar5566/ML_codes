{
 "cells": [
  {
   "cell_type": "markdown",
   "metadata": {},
   "source": [
    "# This code tries to forecast average month ground nut values using RNN"
   ]
  },
  {
   "cell_type": "markdown",
   "metadata": {},
   "source": [
    "### Importing the data"
   ]
  },
  {
   "cell_type": "code",
   "execution_count": 2,
   "metadata": {
    "collapsed": true
   },
   "outputs": [],
   "source": [
    "data={24097: 2504.6296296296296, 24098: 2650.0, 24099: 2665.3846153846152, 24100: 2448.2758620689656, 24101: 2583.3333333333335, 24102: 2752.3809523809523, 24103: 3140.0, 24104: 3200.0, 24105: 3200.0, 24106: 3150.0, 24107: 3200.0, 24108: 2568.9473684210525, 24109: 2930.3846153846152, 24110: 3100.0, 24111: 3021.4285714285716, 24112: 3745.0, 24113: 3877.7419354838707, 24114: 3830.0, 24115: 3759.6774193548385, 24116: 3800.0, 24117: 3341.0714285714284, 24118: 3436.6666666666665, 24119: 3263.3333333333335, 24120: 3579.1666666666665, 24121: 3396.7741935483873, 24122: 3401.818181818182, 24123: 3569.1666666666665, 24124: 3436.3636363636365, 24125: 3458.0, 24126: 3718.0, 24127: 3238.653846153846, 24128: 3526.6666666666665, 24129: 4293.333333333333, 24130: 4203.225806451613, 24131: 3460.0, 24132: 3856.6666666666665, 24133: 3491.935483870968, 24134: 3425.6, 24135: 3460.0, 24136: 4102.413793103448, 24137: 4150.0, 24138: 4548.275862068966, 24139: 4700.0, 24140: 4210.666666666667, 24141: 4577.241379310345, 24142: 4401.612903225807, 24143: 4316.0, 24144: 4600.0, 24145: 4353.548387096775, 24146: 4724.642857142857, 24147: 5244.333333333333, 24148: 5328.5, 24149: 5373.322580645161, 24150: 5332.9, 24151: 5561.758620689655, 24152: 6038.75, 24153: 5884.335, 24154: 5685.667, 24155: 5478.846153846154, 24156: 5708.862068965517, 24157: 5826.806451612903, 24158: 5952.928571428572, 24159: 5770.193548387097, 24160: 5445.076923076923, 24161: 5412.0, 24162: 5024.666666666667, 24163: 4853.225806451613, 24164: 4336.862068965517, 24165: 4219.0526315789475, 24166: 4205.733333333334, 24167: 4424.137931034483, 24168: 4241.741935483871, 24169: 4117.806451612903, 24170: 3995.1428571428573, 24171: 3939.2580645161293, 24172: 3958.0, 24173: 4132.4, 24174: 4358.28, 24175: 4166.0, 24176: 4503.580645161291, 24177: 5125.0, 24178: 4468.4, 24179: 4517.0, 24180: 4446.724137931034, 24181: 4375.0, 24182: 4375.0, 24183: 4451.612903225807, 24184: 4500.0, 24185: 5207.068965517241, 24186: 5746.133333333333, 24187: 5733.870967741936, 24188: 5604.8387096774195, 24189: 5678.333333333333, 24190: 5938.709677419355, 24191: 5000.0, 24192: 4677.419354838709}\n"
   ]
  },
  {
   "cell_type": "code",
   "execution_count": 3,
   "metadata": {
    "collapsed": false
   },
   "outputs": [],
   "source": [
    "time=data.keys()\n",
    "prices=data.values()"
   ]
  },
  {
   "cell_type": "markdown",
   "metadata": {},
   "source": [
    "## Assuming the data only depend on the previous 4 values"
   ]
  },
  {
   "cell_type": "code",
   "execution_count": 4,
   "metadata": {
    "collapsed": false
   },
   "outputs": [],
   "source": [
    "X_train=[]\n",
    "Y_train=[]\n",
    "for i in range(len(prices)-4):\n",
    "    X_train.append(prices[0+i:4+i])\n",
    "    Y_train.append(prices[1+i:5+i])"
   ]
  },
  {
   "cell_type": "code",
   "execution_count": 5,
   "metadata": {
    "collapsed": false
   },
   "outputs": [
    {
     "name": "stdout",
     "output_type": "stream",
     "text": [
      "[[2504.6296296296296, 2650.0, 2665.3846153846152, 2448.2758620689656], [2650.0, 2665.3846153846152, 2448.2758620689656, 2583.3333333333335], [2665.3846153846152, 2448.2758620689656, 2583.3333333333335, 2752.3809523809523], [2448.2758620689656, 2583.3333333333335, 2752.3809523809523, 3140.0], [2583.3333333333335, 2752.3809523809523, 3140.0, 3200.0], [2752.3809523809523, 3140.0, 3200.0, 3200.0], [3140.0, 3200.0, 3200.0, 3150.0], [3200.0, 3200.0, 3150.0, 3200.0], [3200.0, 3150.0, 3200.0, 2568.9473684210525], [3150.0, 3200.0, 2568.9473684210525, 2930.3846153846152], [3200.0, 2568.9473684210525, 2930.3846153846152, 3100.0], [2568.9473684210525, 2930.3846153846152, 3100.0, 3021.4285714285716], [2930.3846153846152, 3100.0, 3021.4285714285716, 3745.0], [3100.0, 3021.4285714285716, 3745.0, 3877.7419354838707], [3021.4285714285716, 3745.0, 3877.7419354838707, 3830.0], [3745.0, 3877.7419354838707, 3830.0, 3759.6774193548385], [3877.7419354838707, 3830.0, 3759.6774193548385, 3800.0], [3830.0, 3759.6774193548385, 3800.0, 3341.0714285714284], [3759.6774193548385, 3800.0, 3341.0714285714284, 3436.6666666666665], [3800.0, 3341.0714285714284, 3436.6666666666665, 3263.3333333333335], [3341.0714285714284, 3436.6666666666665, 3263.3333333333335, 3579.1666666666665], [3436.6666666666665, 3263.3333333333335, 3579.1666666666665, 3396.7741935483873], [3263.3333333333335, 3579.1666666666665, 3396.7741935483873, 3401.818181818182], [3579.1666666666665, 3396.7741935483873, 3401.818181818182, 3569.1666666666665], [3396.7741935483873, 3401.818181818182, 3569.1666666666665, 3436.3636363636365], [3401.818181818182, 3569.1666666666665, 3436.3636363636365, 3458.0], [3569.1666666666665, 3436.3636363636365, 3458.0, 3718.0], [3436.3636363636365, 3458.0, 3718.0, 3238.653846153846], [3458.0, 3718.0, 3238.653846153846, 3526.6666666666665], [3718.0, 3238.653846153846, 3526.6666666666665, 4293.333333333333], [3238.653846153846, 3526.6666666666665, 4293.333333333333, 4203.225806451613], [3526.6666666666665, 4293.333333333333, 4203.225806451613, 3460.0], [4293.333333333333, 4203.225806451613, 3460.0, 3856.6666666666665], [4203.225806451613, 3460.0, 3856.6666666666665, 3491.935483870968], [3460.0, 3856.6666666666665, 3491.935483870968, 3425.6], [3856.6666666666665, 3491.935483870968, 3425.6, 3460.0], [3491.935483870968, 3425.6, 3460.0, 4102.413793103448], [3425.6, 3460.0, 4102.413793103448, 4150.0], [3460.0, 4102.413793103448, 4150.0, 4548.275862068966], [4102.413793103448, 4150.0, 4548.275862068966, 4700.0], [4150.0, 4548.275862068966, 4700.0, 4210.666666666667], [4548.275862068966, 4700.0, 4210.666666666667, 4577.241379310345], [4700.0, 4210.666666666667, 4577.241379310345, 4401.612903225807], [4210.666666666667, 4577.241379310345, 4401.612903225807, 4316.0], [4577.241379310345, 4401.612903225807, 4316.0, 4600.0], [4401.612903225807, 4316.0, 4600.0, 4353.548387096775], [4316.0, 4600.0, 4353.548387096775, 4724.642857142857], [4600.0, 4353.548387096775, 4724.642857142857, 5244.333333333333], [4353.548387096775, 4724.642857142857, 5244.333333333333, 5328.5], [4724.642857142857, 5244.333333333333, 5328.5, 5373.322580645161], [5244.333333333333, 5328.5, 5373.322580645161, 5332.9], [5328.5, 5373.322580645161, 5332.9, 5561.758620689655], [5373.322580645161, 5332.9, 5561.758620689655, 6038.75], [5332.9, 5561.758620689655, 6038.75, 5884.335], [5561.758620689655, 6038.75, 5884.335, 5685.667], [6038.75, 5884.335, 5685.667, 5478.846153846154], [5884.335, 5685.667, 5478.846153846154, 5708.862068965517], [5685.667, 5478.846153846154, 5708.862068965517, 5826.806451612903], [5478.846153846154, 5708.862068965517, 5826.806451612903, 5952.928571428572], [5708.862068965517, 5826.806451612903, 5952.928571428572, 5770.193548387097], [5826.806451612903, 5952.928571428572, 5770.193548387097, 5445.076923076923], [5952.928571428572, 5770.193548387097, 5445.076923076923, 5412.0], [5770.193548387097, 5445.076923076923, 5412.0, 5024.666666666667], [5445.076923076923, 5412.0, 5024.666666666667, 4853.225806451613], [5412.0, 5024.666666666667, 4853.225806451613, 4336.862068965517], [5024.666666666667, 4853.225806451613, 4336.862068965517, 4219.0526315789475], [4853.225806451613, 4336.862068965517, 4219.0526315789475, 4205.733333333334], [4336.862068965517, 4219.0526315789475, 4205.733333333334, 4424.137931034483], [4219.0526315789475, 4205.733333333334, 4424.137931034483, 4241.741935483871], [4205.733333333334, 4424.137931034483, 4241.741935483871, 4117.806451612903], [4424.137931034483, 4241.741935483871, 4117.806451612903, 3995.1428571428573], [4241.741935483871, 4117.806451612903, 3995.1428571428573, 3939.2580645161293], [4117.806451612903, 3995.1428571428573, 3939.2580645161293, 3958.0], [3995.1428571428573, 3939.2580645161293, 3958.0, 4132.4], [3939.2580645161293, 3958.0, 4132.4, 4358.28], [3958.0, 4132.4, 4358.28, 4166.0], [4132.4, 4358.28, 4166.0, 4503.580645161291], [4358.28, 4166.0, 4503.580645161291, 5125.0], [4166.0, 4503.580645161291, 5125.0, 4468.4], [4503.580645161291, 5125.0, 4468.4, 4517.0], [5125.0, 4468.4, 4517.0, 4446.724137931034], [4468.4, 4517.0, 4446.724137931034, 4375.0], [4517.0, 4446.724137931034, 4375.0, 4375.0], [4446.724137931034, 4375.0, 4375.0, 4451.612903225807], [4375.0, 4375.0, 4451.612903225807, 4500.0], [4375.0, 4451.612903225807, 4500.0, 5207.068965517241], [4451.612903225807, 4500.0, 5207.068965517241, 5746.133333333333], [4500.0, 5207.068965517241, 5746.133333333333, 5733.870967741936], [5207.068965517241, 5746.133333333333, 5733.870967741936, 5604.8387096774195], [5746.133333333333, 5733.870967741936, 5604.8387096774195, 5678.333333333333], [5733.870967741936, 5604.8387096774195, 5678.333333333333, 5938.709677419355], [5604.8387096774195, 5678.333333333333, 5938.709677419355, 5000.0]]\n"
     ]
    }
   ],
   "source": [
    "print X_train"
   ]
  },
  {
   "cell_type": "markdown",
   "metadata": {
    "collapsed": true
   },
   "source": [
    "## Learning to use pybrain to create networks"
   ]
  },
  {
   "cell_type": "code",
   "execution_count": 5,
   "metadata": {
    "collapsed": false
   },
   "outputs": [
    {
     "name": "stderr",
     "output_type": "stream",
     "text": [
      "//anaconda/envs/dato-env/lib/python2.7/site-packages/matplotlib/font_manager.py:273: UserWarning: Matplotlib is building the font cache using fc-list. This may take a moment.\n",
      "  warnings.warn('Matplotlib is building the font cache using fc-list. This may take a moment.')\n"
     ]
    }
   ],
   "source": [
    "from pybrain.datasets.supervised import SupervisedDataSet\n",
    "from pybrain.tools.shortcuts import buildNetwork\n",
    "from pybrain.supervised.trainers.backprop import BackpropTrainer\n",
    "import numpy as np\n",
    "import matplotlib.pyplot as plt\n",
    "%matplotlib inline"
   ]
  },
  {
   "cell_type": "code",
   "execution_count": 6,
   "metadata": {
    "collapsed": false
   },
   "outputs": [],
   "source": [
    "D=SupervisedDataSet(2,1)"
   ]
  },
  {
   "cell_type": "code",
   "execution_count": 7,
   "metadata": {
    "collapsed": false
   },
   "outputs": [],
   "source": [
    "D.addSample([0,0],[0])\n",
    "D.addSample([0,1],[1])\n",
    "D.addSample([1,0],[1])\n",
    "D.addSample([1,1],[0])"
   ]
  },
  {
   "cell_type": "code",
   "execution_count": 8,
   "metadata": {
    "collapsed": false
   },
   "outputs": [
    {
     "name": "stdout",
     "output_type": "stream",
     "text": [
      "input: dim(6, 2)\n",
      "[[ 0.  0.]\n",
      " [ 0.  1.]\n",
      " [ 1.  0.]\n",
      " [ 1.  1.]]\n",
      "\n",
      "target: dim(6, 1)\n",
      "[[ 0.]\n",
      " [ 1.]\n",
      " [ 1.]\n",
      " [ 0.]]\n",
      "\n",
      "\n"
     ]
    }
   ],
   "source": [
    "print D"
   ]
  },
  {
   "cell_type": "code",
   "execution_count": 54,
   "metadata": {
    "collapsed": false
   },
   "outputs": [],
   "source": [
    "n=buildNetwork(0,20,1)"
   ]
  },
  {
   "cell_type": "code",
   "execution_count": 47,
   "metadata": {
    "collapsed": false
   },
   "outputs": [
    {
     "name": "stdout",
     "output_type": "stream",
     "text": [
      "FeedForwardNetwork-56\n",
      "   Modules:\n",
      "    [<BiasUnit 'bias'>, <LinearLayer 'in'>, <SigmoidLayer 'hidden0'>, <LinearLayer 'out'>]\n",
      "   Connections:\n",
      "    [<FullConnection 'FullConnection-52': 'hidden0' -> 'out'>, <FullConnection 'FullConnection-53': 'bias' -> 'out'>, <FullConnection 'FullConnection-54': 'bias' -> 'hidden0'>, <FullConnection 'FullConnection-55': 'in' -> 'hidden0'>]\n",
      "\n"
     ]
    }
   ],
   "source": [
    "print n"
   ]
  },
  {
   "cell_type": "code",
   "execution_count": 22,
   "metadata": {
    "collapsed": true
   },
   "outputs": [],
   "source": [
    "T=BackpropTrainer(N,learningrate=0.01,momentum=0.99)"
   ]
  },
  {
   "cell_type": "code",
   "execution_count": 23,
   "metadata": {
    "collapsed": false
   },
   "outputs": [
    {
     "name": "stdout",
     "output_type": "stream",
     "text": [
      "MSE before training 0.70299850138\n"
     ]
    }
   ],
   "source": [
    "print \"MSE before training\", T.testOnData(D)"
   ]
  },
  {
   "cell_type": "code",
   "execution_count": 27,
   "metadata": {
    "collapsed": false
   },
   "outputs": [],
   "source": [
    "T.trainOnDataset(D,1000)"
   ]
  },
  {
   "cell_type": "code",
   "execution_count": 28,
   "metadata": {
    "collapsed": false
   },
   "outputs": [
    {
     "name": "stdout",
     "output_type": "stream",
     "text": [
      "MSE after training 3.4666738999e-33\n"
     ]
    }
   ],
   "source": [
    "print \"MSE after training\", T.testOnData(D)"
   ]
  },
  {
   "cell_type": "code",
   "execution_count": 31,
   "metadata": {
    "collapsed": false,
    "scrolled": true
   },
   "outputs": [
    {
     "name": "stdout",
     "output_type": "stream",
     "text": [
      "[-0.47095879 -0.24000081 -1.6186971  -1.11963235 -1.04107087  0.99777268\n",
      " -2.52477115 -3.39731485  2.42804424 -2.62253331 -1.62529913 -2.43354462\n",
      " -1.53816996  2.27869999  2.26960018 -1.74086165 -1.83675033]\n"
     ]
    }
   ],
   "source": [
    "print N.params"
   ]
  },
  {
   "cell_type": "markdown",
   "metadata": {},
   "source": [
    "## Creating a RNN network"
   ]
  },
  {
   "cell_type": "code",
   "execution_count": 9,
   "metadata": {
    "collapsed": true
   },
   "outputs": [],
   "source": [
    "from pybrain.tools.shortcuts import buildNetwork\n",
    "from pybrain.structure import LinearLayer, SigmoidLayer ,LSTMLayer\n",
    "from pybrain.datasets import SequentialDataSet\n",
    "from itertools import cycle\n"
   ]
  },
  {
   "cell_type": "code",
   "execution_count": 10,
   "metadata": {
    "collapsed": false
   },
   "outputs": [],
   "source": [
    "ds = SequentialDataSet(1, 1)\n",
    "for sample, next_sample in zip(prices, cycle(prices[1:])):\n",
    "    ds.addSample(sample, next_sample)"
   ]
  },
  {
   "cell_type": "code",
   "execution_count": 19,
   "metadata": {
    "collapsed": false
   },
   "outputs": [],
   "source": [
    "\n",
    "net = buildNetwork(1, 5, 1,hiddenclass=LSTMLayer, outputbias=False, recurrent=True)"
   ]
  },
  {
   "cell_type": "code",
   "execution_count": 6,
   "metadata": {
    "collapsed": false
   },
   "outputs": [
    {
     "ename": "NameError",
     "evalue": "name 'net' is not defined",
     "output_type": "error",
     "traceback": [
      "\u001b[0;31m---------------------------------------------------------------------------\u001b[0m",
      "\u001b[0;31mNameError\u001b[0m                                 Traceback (most recent call last)",
      "\u001b[0;32m<ipython-input-6-9a914ea51dcc>\u001b[0m in \u001b[0;36m<module>\u001b[0;34m()\u001b[0m\n\u001b[1;32m      2\u001b[0m \u001b[0;32mfrom\u001b[0m \u001b[0msys\u001b[0m \u001b[0;32mimport\u001b[0m \u001b[0mstdout\u001b[0m\u001b[0;34m\u001b[0m\u001b[0m\n\u001b[1;32m      3\u001b[0m \u001b[0;34m\u001b[0m\u001b[0m\n\u001b[0;32m----> 4\u001b[0;31m \u001b[0mtrainer\u001b[0m \u001b[0;34m=\u001b[0m \u001b[0mRPropMinusTrainer\u001b[0m\u001b[0;34m(\u001b[0m\u001b[0mnet\u001b[0m\u001b[0;34m,\u001b[0m \u001b[0mdataset\u001b[0m\u001b[0;34m=\u001b[0m\u001b[0mds\u001b[0m\u001b[0;34m)\u001b[0m\u001b[0;34m\u001b[0m\u001b[0m\n\u001b[0m\u001b[1;32m      5\u001b[0m \u001b[0mtrain_errors\u001b[0m \u001b[0;34m=\u001b[0m \u001b[0;34m[\u001b[0m\u001b[0;34m]\u001b[0m \u001b[0;31m# save errors for plotting later\u001b[0m\u001b[0;34m\u001b[0m\u001b[0m\n\u001b[1;32m      6\u001b[0m \u001b[0mEPOCHS_PER_CYCLE\u001b[0m \u001b[0;34m=\u001b[0m \u001b[0;36m5\u001b[0m\u001b[0;34m\u001b[0m\u001b[0m\n",
      "\u001b[0;31mNameError\u001b[0m: name 'net' is not defined"
     ]
    }
   ],
   "source": [
    "from pybrain.supervised import RPropMinusTrainer\n",
    "from sys import stdout\n",
    "\n",
    "trainer = RPropMinusTrainer(net, dataset=ds)\n",
    "train_errors = [] # save errors for plotting later\n",
    "EPOCHS_PER_CYCLE = 5\n",
    "CYCLES = 100\n",
    "EPOCHS = EPOCHS_PER_CYCLE * CYCLES\n",
    "for i in xrange(CYCLES):\n",
    "    trainer.trainEpochs(EPOCHS_PER_CYCLE)\n",
    "    train_errors.append(trainer.testOnData())\n",
    "    epoch = (i+1) * EPOCHS_PER_CYCLE\n",
    "    print (epoch, EPOCHS)\n",
    "    stdout.flush()\n",
    "\n",
    "print()\n",
    "print(\"final error =\", train_errors[-1])"
   ]
  },
  {
   "cell_type": "code",
   "execution_count": 8,
   "metadata": {
    "collapsed": false
   },
   "outputs": [
    {
     "name": "stderr",
     "output_type": "stream",
     "text": [
      "//anaconda/envs/dato-env/lib/python2.7/site-packages/matplotlib/font_manager.py:273: UserWarning: Matplotlib is building the font cache using fc-list. This may take a moment.\n",
      "  warnings.warn('Matplotlib is building the font cache using fc-list. This may take a moment.')\n"
     ]
    },
    {
     "data": {
      "image/png": "[encoded data removed]",
      "text/plain": [
       "<matplotlib.figure.Figure at 0x10d920d50>"
      ]
     },
     "metadata": {},
     "output_type": "display_data"
    }
   ],
   "source": [
    "import matplotlib.pyplot as plt\n",
    "%matplotlib inline\n",
    "\n",
    "plt.plot(range(0, EPOCHS, EPOCHS_PER_CYCLE), train_errors)\n",
    "plt.xlabel('epoch')\n",
    "plt.ylabel('error')\n",
    "plt.show()"
   ]
  },
  {
   "cell_type": "code",
   "execution_count": 9,
   "metadata": {
    "collapsed": false
   },
   "outputs": [
    {
     "name": "stdout",
     "output_type": "stream",
     "text": [
      "('sample', array([ 2504.62962963,  2504.62962963,  2504.62962963,  2504.62962963]))\n",
      "('predicted next sample', array([ 4266.14182027]))\n",
      "('   actual next sample', array([ 2583.33333333]))\n",
      "()\n",
      "('sample', array([ 2650.,  2650.,  2650.,  2650.]))\n",
      "('predicted next sample', array([ 4266.14182027]))\n",
      "('   actual next sample', array([ 2752.38095238]))\n",
      "()\n",
      "('sample', array([ 2665.38461538,  2665.38461538,  2665.38461538,  2665.38461538]))\n",
      "('predicted next sample', array([ 4266.14182027]))\n",
      "('   actual next sample', array([ 3140.]))\n",
      "()\n",
      "('sample', array([ 2448.27586207,  2448.27586207,  2448.27586207,  2448.27586207]))\n",
      "('predicted next sample', array([ 4266.14182027]))\n",
      "('   actual next sample', array([ 3200.]))\n",
      "()\n",
      "('sample', array([ 2583.33333333,  2583.33333333,  2583.33333333,  2583.33333333]))\n",
      "('predicted next sample', array([ 4266.14182027]))\n",
      "('   actual next sample', array([ 3200.]))\n",
      "()\n",
      "('sample', array([ 2752.38095238,  2752.38095238,  2752.38095238,  2752.38095238]))\n",
      "('predicted next sample', array([ 4266.14182027]))\n",
      "('   actual next sample', array([ 3150.]))\n",
      "()\n",
      "('sample', array([ 3140.,  3140.,  3140.,  3140.]))\n",
      "('predicted next sample', array([ 4266.14182027]))\n",
      "('   actual next sample', array([ 3200.]))\n",
      "()\n",
      "('sample', array([ 3200.,  3200.,  3200.,  3200.]))\n",
      "('predicted next sample', array([ 4266.14182027]))\n",
      "('   actual next sample', array([ 2568.94736842]))\n",
      "()\n",
      "('sample', array([ 3200.,  3200.,  3200.,  3200.]))\n",
      "('predicted next sample', array([ 4266.14182027]))\n",
      "('   actual next sample', array([ 2930.38461538]))\n",
      "()\n",
      "('sample', array([ 3150.,  3150.,  3150.,  3150.]))\n",
      "('predicted next sample', array([ 4266.14182027]))\n",
      "('   actual next sample', array([ 3100.]))\n",
      "()\n",
      "('sample', array([ 3200.,  3200.,  3200.,  3200.]))\n",
      "('predicted next sample', array([ 4266.14182027]))\n",
      "('   actual next sample', array([ 3021.42857143]))\n",
      "()\n",
      "('sample', array([ 2568.94736842,  2568.94736842,  2568.94736842,  2568.94736842]))\n",
      "('predicted next sample', array([ 4266.14182027]))\n",
      "('   actual next sample', array([ 3745.]))\n",
      "()\n",
      "('sample', array([ 2930.38461538,  2930.38461538,  2930.38461538,  2930.38461538]))\n",
      "('predicted next sample', array([ 4266.14182027]))\n",
      "('   actual next sample', array([ 3877.74193548]))\n",
      "()\n",
      "('sample', array([ 3100.,  3100.,  3100.,  3100.]))\n",
      "('predicted next sample', array([ 4266.14182027]))\n",
      "('   actual next sample', array([ 3830.]))\n",
      "()\n",
      "('sample', array([ 3021.42857143,  3021.42857143,  3021.42857143,  3021.42857143]))\n",
      "('predicted next sample', array([ 4266.14182027]))\n",
      "('   actual next sample', array([ 3759.67741935]))\n",
      "()\n",
      "('sample', array([ 3745.,  3745.,  3745.,  3745.]))\n",
      "('predicted next sample', array([ 4266.14182027]))\n",
      "('   actual next sample', array([ 3800.]))\n",
      "()\n",
      "('sample', array([ 3877.74193548,  3877.74193548,  3877.74193548,  3877.74193548]))\n",
      "('predicted next sample', array([ 4266.14182027]))\n",
      "('   actual next sample', array([ 3341.07142857]))\n",
      "()\n",
      "('sample', array([ 3830.,  3830.,  3830.,  3830.]))\n",
      "('predicted next sample', array([ 4266.14182027]))\n",
      "('   actual next sample', array([ 3436.66666667]))\n",
      "()\n",
      "('sample', array([ 3759.67741935,  3759.67741935,  3759.67741935,  3759.67741935]))\n",
      "('predicted next sample', array([ 4266.14182027]))\n",
      "('   actual next sample', array([ 3263.33333333]))\n",
      "()\n",
      "('sample', array([ 3800.,  3800.,  3800.,  3800.]))\n",
      "('predicted next sample', array([ 4266.14182027]))\n",
      "('   actual next sample', array([ 3579.16666667]))\n",
      "()\n",
      "('sample', array([ 3341.07142857,  3341.07142857,  3341.07142857,  3341.07142857]))\n",
      "('predicted next sample', array([ 4266.14182027]))\n",
      "('   actual next sample', array([ 3396.77419355]))\n",
      "()\n",
      "('sample', array([ 3436.66666667,  3436.66666667,  3436.66666667,  3436.66666667]))\n",
      "('predicted next sample', array([ 4266.14182027]))\n",
      "('   actual next sample', array([ 3401.81818182]))\n",
      "()\n",
      "('sample', array([ 3263.33333333,  3263.33333333,  3263.33333333,  3263.33333333]))\n",
      "('predicted next sample', array([ 4266.14182027]))\n",
      "('   actual next sample', array([ 3569.16666667]))\n",
      "()\n",
      "('sample', array([ 3579.16666667,  3579.16666667,  3579.16666667,  3579.16666667]))\n",
      "('predicted next sample', array([ 4266.14182027]))\n",
      "('   actual next sample', array([ 3436.36363636]))\n",
      "()\n",
      "('sample', array([ 3396.77419355,  3396.77419355,  3396.77419355,  3396.77419355]))\n",
      "('predicted next sample', array([ 4266.14182027]))\n",
      "('   actual next sample', array([ 3458.]))\n",
      "()\n",
      "('sample', array([ 3401.81818182,  3401.81818182,  3401.81818182,  3401.81818182]))\n",
      "('predicted next sample', array([ 4266.14182027]))\n",
      "('   actual next sample', array([ 3718.]))\n",
      "()\n",
      "('sample', array([ 3569.16666667,  3569.16666667,  3569.16666667,  3569.16666667]))\n",
      "('predicted next sample', array([ 4266.14182027]))\n",
      "('   actual next sample', array([ 3238.65384615]))\n",
      "()\n",
      "('sample', array([ 3436.36363636,  3436.36363636,  3436.36363636,  3436.36363636]))\n",
      "('predicted next sample', array([ 4266.14182027]))\n",
      "('   actual next sample', array([ 3526.66666667]))\n",
      "()\n",
      "('sample', array([ 3458.,  3458.,  3458.,  3458.]))\n",
      "('predicted next sample', array([ 4266.14182027]))\n",
      "('   actual next sample', array([ 4293.33333333]))\n",
      "()\n",
      "('sample', array([ 3718.,  3718.,  3718.,  3718.]))\n",
      "('predicted next sample', array([ 4266.14182027]))\n",
      "('   actual next sample', array([ 4203.22580645]))\n",
      "()\n",
      "('sample', array([ 3238.65384615,  3238.65384615,  3238.65384615,  3238.65384615]))\n",
      "('predicted next sample', array([ 4266.14182027]))\n",
      "('   actual next sample', array([ 3460.]))\n",
      "()\n",
      "('sample', array([ 3526.66666667,  3526.66666667,  3526.66666667,  3526.66666667]))\n",
      "('predicted next sample', array([ 4266.14182027]))\n",
      "('   actual next sample', array([ 3856.66666667]))\n",
      "()\n",
      "('sample', array([ 4293.33333333,  4293.33333333,  4293.33333333,  4293.33333333]))\n",
      "('predicted next sample', array([ 4266.14182027]))\n",
      "('   actual next sample', array([ 3491.93548387]))\n",
      "()\n",
      "('sample', array([ 4203.22580645,  4203.22580645,  4203.22580645,  4203.22580645]))\n",
      "('predicted next sample', array([ 4266.14182027]))\n",
      "('   actual next sample', array([ 3425.6]))\n",
      "()\n",
      "('sample', array([ 3460.,  3460.,  3460.,  3460.]))\n",
      "('predicted next sample', array([ 4266.14182027]))\n",
      "('   actual next sample', array([ 3460.]))\n",
      "()\n",
      "('sample', array([ 3856.66666667,  3856.66666667,  3856.66666667,  3856.66666667]))\n",
      "('predicted next sample', array([ 4266.14182027]))\n",
      "('   actual next sample', array([ 4102.4137931]))\n",
      "()\n",
      "('sample', array([ 3491.93548387,  3491.93548387,  3491.93548387,  3491.93548387]))\n",
      "('predicted next sample', array([ 4266.14182027]))\n",
      "('   actual next sample', array([ 4150.]))\n",
      "()\n",
      "('sample', array([ 3425.6,  3425.6,  3425.6,  3425.6]))\n",
      "('predicted next sample', array([ 4266.14182027]))\n",
      "('   actual next sample', array([ 4548.27586207]))\n",
      "()\n",
      "('sample', array([ 3460.,  3460.,  3460.,  3460.]))\n",
      "('predicted next sample', array([ 4266.14182027]))\n",
      "('   actual next sample', array([ 4700.]))\n",
      "()\n",
      "('sample', array([ 4102.4137931,  4102.4137931,  4102.4137931,  4102.4137931]))\n",
      "('predicted next sample', array([ 4266.14182027]))\n",
      "('   actual next sample', array([ 4210.66666667]))\n",
      "()\n",
      "('sample', array([ 4150.,  4150.,  4150.,  4150.]))\n",
      "('predicted next sample', array([ 4266.14182027]))\n",
      "('   actual next sample', array([ 4577.24137931]))\n",
      "()\n",
      "('sample', array([ 4548.27586207,  4548.27586207,  4548.27586207,  4548.27586207]))\n",
      "('predicted next sample', array([ 4266.14182027]))\n",
      "('   actual next sample', array([ 4401.61290323]))\n",
      "()\n",
      "('sample', array([ 4700.,  4700.,  4700.,  4700.]))\n",
      "('predicted next sample', array([ 4266.14182027]))\n",
      "('   actual next sample', array([ 4316.]))\n",
      "()\n",
      "('sample', array([ 4210.66666667,  4210.66666667,  4210.66666667,  4210.66666667]))\n",
      "('predicted next sample', array([ 4266.14182027]))\n",
      "('   actual next sample', array([ 4600.]))\n",
      "()\n",
      "('sample', array([ 4577.24137931,  4577.24137931,  4577.24137931,  4577.24137931]))\n",
      "('predicted next sample', array([ 4266.14182027]))\n",
      "('   actual next sample', array([ 4353.5483871]))\n",
      "()\n",
      "('sample', array([ 4401.61290323,  4401.61290323,  4401.61290323,  4401.61290323]))\n",
      "('predicted next sample', array([ 4266.14182027]))\n",
      "('   actual next sample', array([ 4724.64285714]))\n",
      "()\n",
      "('sample', array([ 4316.,  4316.,  4316.,  4316.]))\n",
      "('predicted next sample', array([ 4266.14182027]))\n",
      "('   actual next sample', array([ 5244.33333333]))\n",
      "()\n",
      "('sample', array([ 4600.,  4600.,  4600.,  4600.]))\n",
      "('predicted next sample', array([ 4266.14182027]))\n",
      "('   actual next sample', array([ 5328.5]))\n",
      "()\n",
      "('sample', array([ 4353.5483871,  4353.5483871,  4353.5483871,  4353.5483871]))\n",
      "('predicted next sample', array([ 4266.14182027]))\n",
      "('   actual next sample', array([ 5373.32258065]))\n",
      "()\n",
      "('sample', array([ 4724.64285714,  4724.64285714,  4724.64285714,  4724.64285714]))\n",
      "('predicted next sample', array([ 4266.14182027]))\n",
      "('   actual next sample', array([ 5332.9]))\n",
      "()\n",
      "('sample', array([ 5244.33333333,  5244.33333333,  5244.33333333,  5244.33333333]))\n",
      "('predicted next sample', array([ 4266.14182027]))\n",
      "('   actual next sample', array([ 5561.75862069]))\n",
      "()\n",
      "('sample', array([ 5328.5,  5328.5,  5328.5,  5328.5]))\n",
      "('predicted next sample', array([ 4266.14182027]))\n",
      "('   actual next sample', array([ 6038.75]))\n",
      "()\n",
      "('sample', array([ 5373.32258065,  5373.32258065,  5373.32258065,  5373.32258065]))\n",
      "('predicted next sample', array([ 4266.14182027]))\n",
      "('   actual next sample', array([ 5884.335]))\n",
      "()\n",
      "('sample', array([ 5332.9,  5332.9,  5332.9,  5332.9]))\n",
      "('predicted next sample', array([ 4266.14182027]))\n",
      "('   actual next sample', array([ 5685.667]))\n",
      "()\n",
      "('sample', array([ 5561.75862069,  5561.75862069,  5561.75862069,  5561.75862069]))\n",
      "('predicted next sample', array([ 4266.14182027]))\n",
      "('   actual next sample', array([ 5478.84615385]))\n",
      "()\n",
      "('sample', array([ 6038.75,  6038.75,  6038.75,  6038.75]))\n",
      "('predicted next sample', array([ 4266.14182027]))\n",
      "('   actual next sample', array([ 5708.86206897]))\n",
      "()\n",
      "('sample', array([ 5884.335,  5884.335,  5884.335,  5884.335]))\n",
      "('predicted next sample', array([ 4266.14182027]))\n",
      "('   actual next sample', array([ 5826.80645161]))\n",
      "()\n",
      "('sample', array([ 5685.667,  5685.667,  5685.667,  5685.667]))\n",
      "('predicted next sample', array([ 4266.14182027]))\n",
      "('   actual next sample', array([ 5952.92857143]))\n",
      "()\n",
      "('sample', array([ 5478.84615385,  5478.84615385,  5478.84615385,  5478.84615385]))\n",
      "('predicted next sample', array([ 4266.14182027]))\n",
      "('   actual next sample', array([ 5770.19354839]))\n",
      "()\n",
      "('sample', array([ 5708.86206897,  5708.86206897,  5708.86206897,  5708.86206897]))\n",
      "('predicted next sample', array([ 4266.14182027]))\n",
      "('   actual next sample', array([ 5445.07692308]))\n",
      "()\n",
      "('sample', array([ 5826.80645161,  5826.80645161,  5826.80645161,  5826.80645161]))\n",
      "('predicted next sample', array([ 4266.14182027]))\n",
      "('   actual next sample', array([ 5412.]))\n",
      "()\n",
      "('sample', array([ 5952.92857143,  5952.92857143,  5952.92857143,  5952.92857143]))\n",
      "('predicted next sample', array([ 4266.14182027]))\n",
      "('   actual next sample', array([ 5024.66666667]))\n",
      "()\n",
      "('sample', array([ 5770.19354839,  5770.19354839,  5770.19354839,  5770.19354839]))\n",
      "('predicted next sample', array([ 4266.14182027]))\n",
      "('   actual next sample', array([ 4853.22580645]))\n",
      "()\n",
      "('sample', array([ 5445.07692308,  5445.07692308,  5445.07692308,  5445.07692308]))\n",
      "('predicted next sample', array([ 4266.14182027]))\n",
      "('   actual next sample', array([ 4336.86206897]))\n",
      "()\n",
      "('sample', array([ 5412.,  5412.,  5412.,  5412.]))\n",
      "('predicted next sample', array([ 4266.14182027]))\n",
      "('   actual next sample', array([ 4219.05263158]))\n",
      "()\n",
      "('sample', array([ 5024.66666667,  5024.66666667,  5024.66666667,  5024.66666667]))\n",
      "('predicted next sample', array([ 4266.14182027]))\n",
      "('   actual next sample', array([ 4205.73333333]))\n",
      "()\n",
      "('sample', array([ 4853.22580645,  4853.22580645,  4853.22580645,  4853.22580645]))\n",
      "('predicted next sample', array([ 4266.14182027]))\n",
      "('   actual next sample', array([ 4424.13793103]))\n",
      "()\n",
      "('sample', array([ 4336.86206897,  4336.86206897,  4336.86206897,  4336.86206897]))\n",
      "('predicted next sample', array([ 4266.14182027]))\n",
      "('   actual next sample', array([ 4241.74193548]))\n",
      "()\n",
      "('sample', array([ 4219.05263158,  4219.05263158,  4219.05263158,  4219.05263158]))\n",
      "('predicted next sample', array([ 4266.14182027]))\n",
      "('   actual next sample', array([ 4117.80645161]))\n",
      "()\n",
      "('sample', array([ 4205.73333333,  4205.73333333,  4205.73333333,  4205.73333333]))\n",
      "('predicted next sample', array([ 4266.14182027]))\n",
      "('   actual next sample', array([ 3995.14285714]))\n",
      "()\n",
      "('sample', array([ 4424.13793103,  4424.13793103,  4424.13793103,  4424.13793103]))\n",
      "('predicted next sample', array([ 4266.14182027]))\n",
      "('   actual next sample', array([ 3939.25806452]))\n",
      "()\n",
      "('sample', array([ 4241.74193548,  4241.74193548,  4241.74193548,  4241.74193548]))\n",
      "('predicted next sample', array([ 4266.14182027]))\n",
      "('   actual next sample', array([ 3958.]))\n",
      "()\n",
      "('sample', array([ 4117.80645161,  4117.80645161,  4117.80645161,  4117.80645161]))\n",
      "('predicted next sample', array([ 4266.14182027]))\n",
      "('   actual next sample', array([ 4132.4]))\n",
      "()\n",
      "('sample', array([ 3995.14285714,  3995.14285714,  3995.14285714,  3995.14285714]))\n",
      "('predicted next sample', array([ 4266.14182027]))\n",
      "('   actual next sample', array([ 4358.28]))\n",
      "()\n",
      "('sample', array([ 3939.25806452,  3939.25806452,  3939.25806452,  3939.25806452]))\n",
      "('predicted next sample', array([ 4266.14182027]))\n",
      "('   actual next sample', array([ 4166.]))\n",
      "()\n",
      "('sample', array([ 3958.,  3958.,  3958.,  3958.]))\n",
      "('predicted next sample', array([ 4266.14182027]))\n",
      "('   actual next sample', array([ 4503.58064516]))\n",
      "()\n",
      "('sample', array([ 4132.4,  4132.4,  4132.4,  4132.4]))\n",
      "('predicted next sample', array([ 4266.14182027]))\n",
      "('   actual next sample', array([ 5125.]))\n",
      "()\n",
      "('sample', array([ 4358.28,  4358.28,  4358.28,  4358.28]))\n",
      "('predicted next sample', array([ 4266.14182027]))\n",
      "('   actual next sample', array([ 4468.4]))\n",
      "()\n",
      "('sample', array([ 4166.,  4166.,  4166.,  4166.]))\n",
      "('predicted next sample', array([ 4266.14182027]))\n",
      "('   actual next sample', array([ 4517.]))\n",
      "()\n",
      "('sample', array([ 4503.58064516,  4503.58064516,  4503.58064516,  4503.58064516]))\n",
      "('predicted next sample', array([ 4266.14182027]))\n",
      "('   actual next sample', array([ 4446.72413793]))\n",
      "()\n",
      "('sample', array([ 5125.,  5125.,  5125.,  5125.]))\n",
      "('predicted next sample', array([ 4266.14182027]))\n",
      "('   actual next sample', array([ 4375.]))\n",
      "()\n",
      "('sample', array([ 4468.4,  4468.4,  4468.4,  4468.4]))\n",
      "('predicted next sample', array([ 4266.14182027]))\n",
      "('   actual next sample', array([ 4375.]))\n",
      "()\n",
      "('sample', array([ 4517.,  4517.,  4517.,  4517.]))\n",
      "('predicted next sample', array([ 4266.14182027]))\n",
      "('   actual next sample', array([ 4451.61290323]))\n",
      "()\n",
      "('sample', array([ 4446.72413793,  4446.72413793,  4446.72413793,  4446.72413793]))\n",
      "('predicted next sample', array([ 4266.14182027]))\n",
      "('   actual next sample', array([ 4500.]))\n",
      "()\n",
      "('sample', array([ 4375.,  4375.,  4375.,  4375.]))\n",
      "('predicted next sample', array([ 4266.14182027]))\n",
      "('   actual next sample', array([ 5207.06896552]))\n",
      "()\n",
      "('sample', array([ 4375.,  4375.,  4375.,  4375.]))\n",
      "('predicted next sample', array([ 4266.14182027]))\n",
      "('   actual next sample', array([ 5746.13333333]))\n",
      "()\n",
      "('sample', array([ 4451.61290323,  4451.61290323,  4451.61290323,  4451.61290323]))\n",
      "('predicted next sample', array([ 4266.14182027]))\n",
      "('   actual next sample', array([ 5733.87096774]))\n",
      "()\n",
      "('sample', array([ 4500.,  4500.,  4500.,  4500.]))\n",
      "('predicted next sample', array([ 4266.14182027]))\n",
      "('   actual next sample', array([ 5604.83870968]))\n",
      "()\n",
      "('sample', array([ 5207.06896552,  5207.06896552,  5207.06896552,  5207.06896552]))\n",
      "('predicted next sample', array([ 4266.14182027]))\n",
      "('   actual next sample', array([ 5678.33333333]))\n",
      "()\n",
      "('sample', array([ 5746.13333333,  5746.13333333,  5746.13333333,  5746.13333333]))\n",
      "('predicted next sample', array([ 4266.14182027]))\n",
      "('   actual next sample', array([ 5938.70967742]))\n",
      "()\n",
      "('sample', array([ 5733.87096774,  5733.87096774,  5733.87096774,  5733.87096774]))\n",
      "('predicted next sample', array([ 4266.14182027]))\n",
      "('   actual next sample', array([ 5000.]))\n",
      "()\n",
      "('sample', array([ 5604.83870968,  5604.83870968,  5604.83870968,  5604.83870968]))\n",
      "('predicted next sample', array([ 4266.14182027]))\n",
      "('   actual next sample', array([ 4677.41935484]))\n",
      "()\n",
      "('sample', array([ 5678.33333333,  5678.33333333,  5678.33333333,  5678.33333333]))\n",
      "('predicted next sample', array([ 4266.14182027]))\n",
      "('   actual next sample', array([ 2583.33333333]))\n",
      "()\n",
      "('sample', array([ 5938.70967742,  5938.70967742,  5938.70967742,  5938.70967742]))\n",
      "('predicted next sample', array([ 4266.14182027]))\n",
      "('   actual next sample', array([ 2752.38095238]))\n",
      "()\n",
      "('sample', array([ 5000.,  5000.,  5000.,  5000.]))\n",
      "('predicted next sample', array([ 4266.14182027]))\n",
      "('   actual next sample', array([ 3140.]))\n",
      "()\n",
      "('sample', array([ 4677.41935484,  4677.41935484,  4677.41935484,  4677.41935484]))\n",
      "('predicted next sample', array([ 4266.14182027]))\n",
      "('   actual next sample', array([ 3200.]))\n",
      "()\n"
     ]
    }
   ],
   "source": [
    "for sample, target in ds.getSequenceIterator(0):\n",
    "    print(\"sample\" , sample)\n",
    "    print(\"predicted next sample\" , net.activate(sample))\n",
    "    print(\"   actual next sample\" , target)\n",
    "    print()"
   ]
  },
  {
   "cell_type": "code",
   "execution_count": 16,
   "metadata": {
    "collapsed": false
   },
   "outputs": [
    {
     "data": {
      "image/png": "[encoded data removed]",
      "text/plain": [
       "<matplotlib.figure.Figure at 0x110fb6410>"
      ]
     },
     "metadata": {},
     "output_type": "display_data"
    }
   ],
   "source": [
    "import pylab\n",
    "pylab.ion()\n",
    "pylab.show()\n",
    "count=0\n",
    "for sample, target in ds.getSequenceIterator(0):\n",
    "    pylab.plot(count,net.activate(sample),'-o',color='red')\n",
    "    pylab.plot(count,target,'-*',color='blue')\n",
    "    count=count+1"
   ]
  },
  {
   "cell_type": "code",
   "execution_count": 7,
   "metadata": {
    "collapsed": false
   },
   "outputs": [
    {
     "ename": "NameError",
     "evalue": "name 'ds' is not defined",
     "output_type": "error",
     "traceback": [
      "\u001b[0;31m---------------------------------------------------------------------------\u001b[0m",
      "\u001b[0;31mNameError\u001b[0m                                 Traceback (most recent call last)",
      "\u001b[0;32m<ipython-input-7-63698f3c943a>\u001b[0m in \u001b[0;36m<module>\u001b[0;34m()\u001b[0m\n\u001b[0;32m----> 1\u001b[0;31m \u001b[0;32mprint\u001b[0m \u001b[0mds\u001b[0m\u001b[0;34m\u001b[0m\u001b[0m\n\u001b[0m",
      "\u001b[0;31mNameError\u001b[0m: name 'ds' is not defined"
     ]
    }
   ],
   "source": [
    "print ds"
   ]
  },
  {
   "cell_type": "code",
   "execution_count": null,
   "metadata": {
    "collapsed": true
   },
   "outputs": [],
   "source": []
  }
 ],
 "metadata": {
  "kernelspec": {
   "display_name": "Python 2",
   "language": "python",
   "name": "python2"
  },
  "language_info": {
   "codemirror_mode": {
    "name": "ipython",
    "version": 2
   },
   "file_extension": ".py",
   "mimetype": "text/x-python",
   "name": "python",
   "nbconvert_exporter": "python",
   "pygments_lexer": "ipython2",
   "version": "2.7.11"
  }
 },
 "nbformat": 4,
 "nbformat_minor": 0
}
