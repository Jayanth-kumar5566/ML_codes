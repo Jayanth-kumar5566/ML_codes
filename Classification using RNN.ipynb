{
 "cells": [
  {
   "cell_type": "code",
   "execution_count": 165,
   "metadata": {
    "collapsed": false
   },
   "outputs": [],
   "source": [
    "import numpy as np\n",
    "from pylab import hold,show,plot\n",
    "from scipy import sin,rand,arange\n",
    "from pybrain.datasets import SequenceClassificationDataSet\n",
    "from pybrain.structure.modules import LSTMLayer, SoftmaxLayer\n",
    "from pybrain.supervised import RPropMinusTrainer\n",
    "from pybrain.tools.validation import testOnSequenceData\n",
    "from pybrain.tools.shortcuts import buildNetwork\n"
   ]
  },
  {
   "cell_type": "code",
   "execution_count": 166,
   "metadata": {
    "collapsed": false
   },
   "outputs": [
    {
     "name": "stdout",
     "output_type": "stream",
     "text": [
      "[  0.   2.   4.   6.   8.  10.  12.  14.  16.  18.]\n"
     ]
    }
   ],
   "source": [
    "x = (np.arange(10)/float(10))* 20\n",
    "print x"
   ]
  },
  {
   "cell_type": "code",
   "execution_count": 167,
   "metadata": {
    "collapsed": false
   },
   "outputs": [
    {
     "name": "stdout",
     "output_type": "stream",
     "text": [
      "[ 0.52933012  0.55118339 -0.98807656  0.27118649  0.76236977 -0.90570202\n",
      " -0.00855971  0.91282621 -0.75117977 -0.28762404]\n"
     ]
    }
   ],
   "source": [
    "y1 = np.sin(x+rand(1)*3.)\n",
    "print y1"
   ]
  },
  {
   "cell_type": "code",
   "execution_count": 168,
   "metadata": {
    "collapsed": false
   },
   "outputs": [
    {
     "name": "stdout",
     "output_type": "stream",
     "text": [
      "[ 0.76279204  0.95627036  0.27055812 -0.66390401 -0.98797585 -0.40370726\n",
      "  0.55172793  0.999907    0.52877619 -0.42850901]\n"
     ]
    }
   ],
   "source": [
    "y2=np.sin((x/2)+rand(1)*3.)\n",
    "print y2"
   ]
  },
  {
   "cell_type": "code",
   "execution_count": 169,
   "metadata": {
    "collapsed": true
   },
   "outputs": [],
   "source": [
    "DS = SequenceClassificationDataSet(1,1)"
   ]
  },
  {
   "cell_type": "code",
   "execution_count": 21,
   "metadata": {
    "collapsed": false
   },
   "outputs": [],
   "source": [
    "def generateNoisySines( npoints, nseq, noise=0.3 ):\n",
    "    \"\"\" construct a 2-class dataset out of noisy sines\n",
    "    npoints is the length of each sequence \n",
    "    nseq is the number of sequences\"\"\"\n",
    "    x = np.arange(npoints)/float(npoints) * 20.\n",
    "    y1 = np.sin(x+rand(1)*3.)\n",
    "    y2 = np.sin(x/2.+rand(1)*3.)\n",
    "    DS = SequenceClassificationDataSet(1,1, nb_classes=2)\n",
    "    for _ in range(nseq):\n",
    "        DS.newSequence()\n",
    "        buf = rand(npoints)*noise + y1 + (rand(1)-0.5)*noise\n",
    "        for i in range(npoints):\n",
    "            DS.addSample([buf[i]],[0])\n",
    "        DS.newSequence()\n",
    "        buf = rand(npoints)*noise + y2 + (rand(1)-0.5)*noise\n",
    "        for i in range(npoints):\n",
    "            DS.addSample([buf[i]],[1])\n",
    "    return DS"
   ]
  },
  {
   "cell_type": "code",
   "execution_count": 23,
   "metadata": {
    "collapsed": false
   },
   "outputs": [],
   "source": [
    "a=generateNoisySines(10, 1)"
   ]
  },
  {
   "cell_type": "code",
   "execution_count": 33,
   "metadata": {
    "collapsed": false
   },
   "outputs": [
    {
     "data": {
      "text/plain": [
       "[0, 1]"
      ]
     },
     "execution_count": 33,
     "metadata": {},
     "output_type": "execute_result"
    }
   ],
   "source": [
    "range(a.getNumSequences())"
   ]
  },
  {
   "cell_type": "code",
   "execution_count": 40,
   "metadata": {
    "collapsed": false
   },
   "outputs": [],
   "source": [
    "for i in [0,1]:\n",
    "    for input, target in a.getSequenceIterator(i):\n",
    "        plot(input,target,\"o\")\n",
    "        hold(True)\n",
    "show()\n",
    "        "
   ]
  },
  {
   "cell_type": "code",
   "execution_count": 44,
   "metadata": {
    "collapsed": false
   },
   "outputs": [
    {
     "data": {
      "text/plain": [
       "[0]"
      ]
     },
     "execution_count": 44,
     "metadata": {},
     "output_type": "execute_result"
    }
   ],
   "source": [
    "range(1)"
   ]
  },
  {
   "cell_type": "code",
   "execution_count": 47,
   "metadata": {
    "collapsed": false
   },
   "outputs": [
    {
     "name": "stdout",
     "output_type": "stream",
     "text": [
      "[ 1.6600115   0.5816573  -0.91569517  1.39916126 -0.0111351  -1.00316249\n",
      "  0.59948874  0.99714332 -0.50764733  0.80392462]\n"
     ]
    }
   ],
   "source": [
    "buf = rand(10) + y1 + (rand(1)-0.5)\n",
    "print buf"
   ]
  },
  {
   "cell_type": "code",
   "execution_count": 50,
   "metadata": {
    "collapsed": false
   },
   "outputs": [
    {
     "name": "stdout",
     "output_type": "stream",
     "text": [
      "[ 0.73301411  0.17152669  0.74448908  0.85464726  0.58327779  0.01939511\n",
      "  0.98540952  0.81088825  0.83646127  0.26049625]\n"
     ]
    }
   ],
   "source": [
    "print rand(10)"
   ]
  },
  {
   "cell_type": "code",
   "execution_count": 133,
   "metadata": {
    "collapsed": false
   },
   "outputs": [],
   "source": [
    "plot(x,y1,'-o')\n",
    "plot(x,y2,'-*')\n",
    "show()"
   ]
  },
  {
   "cell_type": "code",
   "execution_count": 170,
   "metadata": {
    "collapsed": false
   },
   "outputs": [],
   "source": [
    "for i in y1:\n",
    "    DS.addSample([i],[0])"
   ]
  },
  {
   "cell_type": "code",
   "execution_count": 171,
   "metadata": {
    "collapsed": true
   },
   "outputs": [],
   "source": [
    "DS.newSequence()"
   ]
  },
  {
   "cell_type": "code",
   "execution_count": 172,
   "metadata": {
    "collapsed": true
   },
   "outputs": [],
   "source": [
    "for i in y2:\n",
    "    DS.addSample([i],[1])"
   ]
  },
  {
   "cell_type": "code",
   "execution_count": 173,
   "metadata": {
    "collapsed": false
   },
   "outputs": [
    {
     "data": {
      "text/plain": [
       "2"
      ]
     },
     "execution_count": 173,
     "metadata": {},
     "output_type": "execute_result"
    }
   ],
   "source": [
    "DS.getNumSequences()"
   ]
  },
  {
   "cell_type": "code",
   "execution_count": 174,
   "metadata": {
    "collapsed": false
   },
   "outputs": [
    {
     "data": {
      "text/plain": [
       "[array([[ 0.52933012],\n",
       "        [ 0.55118339],\n",
       "        [-0.98807656],\n",
       "        [ 0.27118649],\n",
       "        [ 0.76236977],\n",
       "        [-0.90570202],\n",
       "        [-0.00855971],\n",
       "        [ 0.91282621],\n",
       "        [-0.75117977],\n",
       "        [-0.28762404]]), array([[0],\n",
       "        [0],\n",
       "        [0],\n",
       "        [0],\n",
       "        [0],\n",
       "        [0],\n",
       "        [0],\n",
       "        [0],\n",
       "        [0],\n",
       "        [0]])]"
      ]
     },
     "execution_count": 174,
     "metadata": {},
     "output_type": "execute_result"
    }
   ],
   "source": [
    "DS.getSequence(0)"
   ]
  },
  {
   "cell_type": "code",
   "execution_count": 139,
   "metadata": {
    "collapsed": false
   },
   "outputs": [
    {
     "data": {
      "text/plain": [
       "array([ 0.99999016, -0.41210874, -0.65699466,  0.95892124, -0.14110942,\n",
       "       -0.84147677,  0.8414652 ,  0.1411306 , -0.95892731,  0.65697853])"
      ]
     },
     "execution_count": 139,
     "metadata": {},
     "output_type": "execute_result"
    }
   ],
   "source": [
    "y1"
   ]
  },
  {
   "cell_type": "code",
   "execution_count": 140,
   "metadata": {
    "collapsed": false
   },
   "outputs": [],
   "source": [
    "DS._convertToOneOfMany(bounds=[0.,1.] )\n",
    "# Adds class to DS."
   ]
  },
  {
   "cell_type": "code",
   "execution_count": 175,
   "metadata": {
    "collapsed": false
   },
   "outputs": [
    {
     "name": "stdout",
     "output_type": "stream",
     "text": [
      "Number of training patterns:  20\n",
      "Input and output dimensions:  1 1\n",
      "First sample (input, target, class):\n",
      "[ 0.52933012] [0]"
     ]
    },
    {
     "ename": "IndexError",
     "evalue": "index 0 is out of bounds for axis 0 with size 0",
     "output_type": "error",
     "traceback": [
      "\u001b[0;31m---------------------------------------------------------------------------\u001b[0m",
      "\u001b[0;31mIndexError\u001b[0m                                Traceback (most recent call last)",
      "\u001b[0;32m<ipython-input-175-2beb09b31473>\u001b[0m in \u001b[0;36m<module>\u001b[0;34m()\u001b[0m\n\u001b[1;32m      2\u001b[0m \u001b[0;32mprint\u001b[0m \u001b[0;34m\"Input and output dimensions: \"\u001b[0m\u001b[0;34m,\u001b[0m \u001b[0mDS\u001b[0m\u001b[0;34m.\u001b[0m\u001b[0mindim\u001b[0m\u001b[0;34m,\u001b[0m \u001b[0mDS\u001b[0m\u001b[0;34m.\u001b[0m\u001b[0moutdim\u001b[0m\u001b[0;34m\u001b[0m\u001b[0m\n\u001b[1;32m      3\u001b[0m \u001b[0;32mprint\u001b[0m \u001b[0;34m\"First sample (input, target, class):\"\u001b[0m\u001b[0;34m\u001b[0m\u001b[0m\n\u001b[0;32m----> 4\u001b[0;31m \u001b[0;32mprint\u001b[0m \u001b[0mDS\u001b[0m\u001b[0;34m[\u001b[0m\u001b[0;34m'input'\u001b[0m\u001b[0;34m]\u001b[0m\u001b[0;34m[\u001b[0m\u001b[0;36m0\u001b[0m\u001b[0;34m]\u001b[0m\u001b[0;34m,\u001b[0m \u001b[0mDS\u001b[0m\u001b[0;34m[\u001b[0m\u001b[0;34m'target'\u001b[0m\u001b[0;34m]\u001b[0m\u001b[0;34m[\u001b[0m\u001b[0;36m0\u001b[0m\u001b[0;34m]\u001b[0m\u001b[0;34m,\u001b[0m \u001b[0mDS\u001b[0m\u001b[0;34m[\u001b[0m\u001b[0;34m'class'\u001b[0m\u001b[0;34m]\u001b[0m\u001b[0;34m[\u001b[0m\u001b[0;36m0\u001b[0m\u001b[0;34m]\u001b[0m\u001b[0;34m\u001b[0m\u001b[0m\n\u001b[0m",
      "\u001b[0;31mIndexError\u001b[0m: index 0 is out of bounds for axis 0 with size 0"
     ]
    }
   ],
   "source": [
    "print \"Number of training patterns: \", len(DS)\n",
    "print \"Input and output dimensions: \", DS.indim, DS.outdim\n",
    "print \"First sample (input, target, class):\"\n",
    "print DS['input'][0], DS['target'][0], DS['class'][0]\n"
   ]
  },
  {
   "cell_type": "code",
   "execution_count": 142,
   "metadata": {
    "collapsed": false
   },
   "outputs": [
    {
     "data": {
      "text/plain": [
       "array([[0],\n",
       "       [0],\n",
       "       [0],\n",
       "       [0],\n",
       "       [0],\n",
       "       [0],\n",
       "       [0],\n",
       "       [0],\n",
       "       [0],\n",
       "       [0],\n",
       "       [1],\n",
       "       [1],\n",
       "       [1],\n",
       "       [1],\n",
       "       [1],\n",
       "       [1],\n",
       "       [1],\n",
       "       [1],\n",
       "       [1],\n",
       "       [1]])"
      ]
     },
     "execution_count": 142,
     "metadata": {},
     "output_type": "execute_result"
    }
   ],
   "source": [
    "DS['class']"
   ]
  },
  {
   "cell_type": "code",
   "execution_count": 176,
   "metadata": {
    "collapsed": false
   },
   "outputs": [
    {
     "name": "stdout",
     "output_type": "stream",
     "text": [
      "\n"
     ]
    }
   ],
   "source": [
    "rnn = buildNetwork( DS.indim, 5, DS.outdim, hiddenclass=LSTMLayer, outclass=SoftmaxLayer, outputbias=False, recurrent=True)"
   ]
  },
  {
   "cell_type": "code",
   "execution_count": 177,
   "metadata": {
    "collapsed": false
   },
   "outputs": [
    {
     "data": {
      "text/plain": [
       "array([ -9.91905745e-01,   5.64168933e-02,  -2.98493784e-01,\n",
       "         6.74733038e-01,  -8.80597528e-01,  -5.79276201e-01,\n",
       "        -1.10332326e+00,  -2.09545542e+00,   8.59509664e-01,\n",
       "         5.99675409e-01,   1.69810821e+00,   4.02710620e-01,\n",
       "         1.25488669e+00,   6.11877213e-03,   2.64757386e-01,\n",
       "        -1.86422616e+00,   1.10034524e+00,  -8.40389208e-01,\n",
       "        -3.61277911e-01,   8.36011093e-01,   4.94318769e-01,\n",
       "         5.10736588e-01,   1.16329234e+00,  -1.19291508e+00,\n",
       "         7.80909028e-01,   1.90848404e-01,  -8.54794465e-01,\n",
       "        -2.70814169e-02,  -4.24256627e-02,  -6.94372504e-01,\n",
       "         1.63872937e+00,   2.33585351e-01,   1.46664451e+00,\n",
       "         7.31247465e-01,   5.15711715e-01,   1.14907327e+00,\n",
       "        -5.88850062e-01,   1.49962993e-02,  -1.91204896e+00,\n",
       "        -7.06557781e-01,   6.41081982e-01,  -3.43359825e-01,\n",
       "        -1.38762953e+00,  -1.66416590e-01,   4.68063019e-01,\n",
       "        -1.03974431e+00,  -2.02205392e+00,   4.11616249e-01,\n",
       "        -1.41440351e-01,   1.13016045e+00,   2.94402317e-01,\n",
       "         1.24159665e+00,   5.54740612e-01,  -6.28987366e-01,\n",
       "        -5.32316009e-01,   2.26759679e-01,  -2.22916945e-01,\n",
       "         4.37318709e-01,   1.16715810e+00,   2.22774688e-01,\n",
       "        -9.33266373e-01,   2.10095950e-01,   1.44378539e+00,\n",
       "        -2.06609809e+00,   6.16627997e-01,  -3.80428741e-01,\n",
       "         3.67121083e-02,  -8.42536698e-01,   2.24033732e-01,\n",
       "        -5.55402207e-01,   8.22351450e-01,  -2.97809895e-02,\n",
       "         2.93929888e+00,   5.69326023e-02,   2.34858036e-01,\n",
       "        -3.53659385e-01,  -3.06417437e-01,   4.74160182e-01,\n",
       "         2.16280380e-01,   2.39473495e-01,   1.55504587e-01,\n",
       "         1.51704805e+00,  -3.83576023e-01,  -2.73675387e-01,\n",
       "         6.01068177e-02,   1.96534450e+00,  -4.29231969e-01,\n",
       "        -4.65387219e-01,   6.94528589e-01,   7.42083354e-01,\n",
       "         1.31470610e+00,   8.38728549e-01,   1.83355877e-01,\n",
       "        -1.54900291e-01,  -7.57739521e-01,  -9.22458268e-01,\n",
       "        -6.82647729e-01,  -3.83835278e-01,  -5.28503825e-02,\n",
       "        -3.77355682e-01,  -1.35622874e-01,  -1.40310280e+00,\n",
       "         1.53518668e+00,   1.53260681e+00,  -1.37470859e+00,\n",
       "         2.25634144e-03,   1.51503286e+00,  -1.98954037e-01,\n",
       "        -9.08514159e-01,  -7.73781910e-02,   4.46201829e-01,\n",
       "        -7.97272853e-01,   4.51345765e-01,  -9.83235807e-01,\n",
       "        -1.23740155e-01,   5.18798415e-01,   1.94920165e+00,\n",
       "        -1.57356890e+00,  -4.21332322e-01,  -2.14653624e-01,\n",
       "        -2.98633757e+00,  -7.64903826e-01,  -8.97132332e-01,\n",
       "         6.18789761e-01,   6.40141143e-01,   3.37135528e-01,\n",
       "         8.97336668e-02,  -5.13298219e-01,   4.62472142e-01,\n",
       "        -7.37202038e-02,  -7.43941711e-01,   1.71259669e+00,\n",
       "        -1.21711643e-01,  -1.98443142e-01,   1.01824882e+00,\n",
       "         1.15996844e+00,   1.25709852e-02,   6.82892318e-01,\n",
       "        -1.54198457e+00,   8.93663428e-01,   1.03318950e+00,\n",
       "         7.70266004e-01,  -5.27930119e-01,  -1.38582667e+00,\n",
       "        -7.39700835e-01])"
      ]
     },
     "execution_count": 177,
     "metadata": {},
     "output_type": "execute_result"
    }
   ],
   "source": [
    "rnn.params"
   ]
  },
  {
   "cell_type": "code",
   "execution_count": 178,
   "metadata": {
    "collapsed": false
   },
   "outputs": [],
   "source": [
    "trainer = RPropMinusTrainer( rnn, dataset=DS, verbose=True )"
   ]
  },
  {
   "cell_type": "code",
   "execution_count": 179,
   "metadata": {
    "collapsed": false
   },
   "outputs": [],
   "source": [
    "rnn.sortModules()"
   ]
  },
  {
   "cell_type": "code",
   "execution_count": 180,
   "metadata": {
    "collapsed": false
   },
   "outputs": [
    {
     "data": {
      "text/plain": [
       "array([ 1.])"
      ]
     },
     "execution_count": 180,
     "metadata": {},
     "output_type": "execute_result"
    }
   ],
   "source": [
    "rnn.activate(.34)"
   ]
  },
  {
   "cell_type": "code",
   "execution_count": 181,
   "metadata": {
    "collapsed": false
   },
   "outputs": [
    {
     "name": "stdout",
     "output_type": "stream",
     "text": [
      "epoch      0  total error         0.25   avg weight       0.93991\n",
      "epoch      1  total error         0.25   avg weight       0.94591\n",
      "train error:  0.00%\n",
      "epoch      2  total error         0.25   avg weight       0.96548\n",
      "epoch      3  total error         0.25   avg weight       0.98951\n",
      "train error:  0.00%\n",
      "epoch      4  total error         0.25   avg weight          1.01\n",
      "epoch      5  total error         0.25   avg weight        1.0543\n",
      "train error:  0.00%\n",
      "epoch      6  total error         0.25   avg weight        1.1264\n",
      "epoch      7  total error         0.25   avg weight        1.2298\n",
      "train error:  0.00%\n",
      "epoch      8  total error         0.25   avg weight        1.3657\n",
      "epoch      9  total error         0.25   avg weight        1.5538\n",
      "train error:  0.00%\n",
      "epoch     10  total error         0.25   avg weight         1.801\n",
      "epoch     11  total error         0.25   avg weight        2.1173\n",
      "train error:  0.00%\n",
      "epoch     12  total error         0.25   avg weight        2.5144\n",
      "epoch     13  total error         0.25   avg weight        3.0057\n",
      "train error:  0.00%\n",
      "epoch     14  total error         0.25   avg weight        3.6077\n",
      "epoch     15  total error         0.25   avg weight        4.2557\n",
      "train error:  0.00%\n",
      "epoch     16  total error         0.25   avg weight         5.007\n",
      "epoch     17  total error         0.25   avg weight        5.8589\n",
      "train error:  0.00%\n",
      "epoch     18  total error         0.25   avg weight        6.3629\n",
      "epoch     19  total error         0.25   avg weight        7.0315\n",
      "train error:  0.00%\n",
      "epoch     20  total error         0.25   avg weight        7.7789\n",
      "epoch     21  total error         0.25   avg weight        8.7012\n",
      "train error:  0.00%\n",
      "epoch     22  total error         0.25   avg weight        9.7594\n",
      "epoch     23  total error         0.25   avg weight        10.977\n",
      "train error:  0.00%\n",
      "epoch     24  total error         0.25   avg weight        11.685\n",
      "epoch     25  total error         0.25   avg weight        12.396\n",
      "train error:  0.00%\n",
      "epoch     26  total error         0.25   avg weight        13.071\n",
      "epoch     27  total error         0.25   avg weight        13.827\n",
      "train error:  0.00%\n",
      "epoch     28  total error         0.25   avg weight        14.714\n",
      "epoch     29  total error         0.25   avg weight         15.76\n",
      "train error:  0.00%\n",
      "epoch     30  total error         0.25   avg weight        16.403\n",
      "epoch     31  total error         0.25   avg weight        17.083\n",
      "train error:  0.00%\n",
      "epoch     32  total error         0.25   avg weight        17.718\n",
      "epoch     33  total error         0.25   avg weight        18.378\n",
      "train error:  0.00%\n",
      "epoch     34  total error         0.25   avg weight         19.06\n",
      "epoch     35  total error         0.25   avg weight        19.763\n",
      "train error:  0.00%\n",
      "epoch     36  total error         0.25   avg weight        20.483\n",
      "epoch     37  total error         0.25   avg weight        21.219\n",
      "train error:  0.00%\n",
      "epoch     38  total error         0.25   avg weight        21.971\n",
      "epoch     39  total error         0.25   avg weight        22.735\n",
      "train error:  0.00%\n",
      "epoch     40  total error         0.25   avg weight        23.511\n",
      "epoch     41  total error         0.25   avg weight        24.298\n",
      "train error:  0.00%\n",
      "epoch     42  total error         0.25   avg weight        25.094\n",
      "epoch     43  total error         0.25   avg weight        25.899\n",
      "train error:  0.00%\n",
      "epoch     44  total error         0.25   avg weight        26.713\n",
      "epoch     45  total error         0.25   avg weight        27.533\n",
      "train error:  0.00%\n",
      "epoch     46  total error         0.25   avg weight         28.36\n",
      "epoch     47  total error         0.25   avg weight        29.194\n",
      "train error:  0.00%\n",
      "epoch     48  total error         0.25   avg weight        30.032\n",
      "epoch     49  total error         0.25   avg weight        30.876\n",
      "train error:  0.00%\n",
      "epoch     50  total error         0.25   avg weight        31.725\n",
      "epoch     51  total error         0.25   avg weight        32.578\n",
      "train error:  0.00%\n",
      "epoch     52  total error         0.25   avg weight        33.435\n",
      "epoch     53  total error         0.25   avg weight        34.296\n",
      "train error:  0.00%\n",
      "epoch     54  total error         0.25   avg weight         35.16\n",
      "epoch     55  total error         0.25   avg weight        36.028\n",
      "train error:  0.00%\n",
      "epoch     56  total error         0.25   avg weight        36.898\n",
      "epoch     57  total error         0.25   avg weight        37.771\n",
      "train error:  0.00%\n",
      "epoch     58  total error         0.25   avg weight        38.647\n",
      "epoch     59  total error         0.25   avg weight        39.525\n",
      "train error:  0.00%\n",
      "epoch     60  total error         0.25   avg weight        40.406\n",
      "epoch     61  total error         0.25   avg weight        41.288\n",
      "train error:  0.00%\n",
      "epoch     62  total error         0.25   avg weight        42.173\n",
      "epoch     63  total error         0.25   avg weight        43.059\n",
      "train error:  0.00%\n",
      "epoch     64  total error         0.25   avg weight        43.947\n",
      "epoch     65  total error         0.25   avg weight        44.837\n",
      "train error:  0.00%\n",
      "epoch     66  total error         0.25   avg weight        45.728\n",
      "epoch     67  total error         0.25   avg weight        46.621\n",
      "train error:  0.00%\n",
      "epoch     68  total error         0.25   avg weight        47.515\n",
      "epoch     69  total error         0.25   avg weight         48.41\n",
      "train error:  0.00%\n",
      "epoch     70  total error         0.25   avg weight        49.307\n",
      "epoch     71  total error         0.25   avg weight        50.205\n",
      "train error:  0.00%\n",
      "epoch     72  total error         0.25   avg weight        51.104\n",
      "epoch     73  total error         0.25   avg weight        52.003\n",
      "train error:  0.00%\n",
      "epoch     74  total error         0.25   avg weight        52.904\n",
      "epoch     75  total error         0.25   avg weight        53.806\n",
      "train error:  0.00%\n",
      "epoch     76  total error         0.25   avg weight        54.709\n",
      "epoch     77  total error         0.25   avg weight        55.612\n",
      "train error:  0.00%\n",
      "epoch     78  total error         0.25   avg weight        56.517\n",
      "epoch     79  total error         0.25   avg weight        57.422\n",
      "train error:  0.00%\n",
      "epoch     80  total error         0.25   avg weight        58.328\n",
      "epoch     81  total error         0.25   avg weight        59.234\n",
      "train error:  0.00%\n",
      "epoch     82  total error         0.25   avg weight        60.142\n",
      "epoch     83  total error         0.25   avg weight         61.05\n",
      "train error:  0.00%\n",
      "epoch     84  total error         0.25   avg weight        61.958\n",
      "epoch     85  total error         0.25   avg weight        62.867\n",
      "train error:  0.00%\n",
      "epoch     86  total error         0.25   avg weight        63.777\n",
      "epoch     87  total error         0.25   avg weight        64.687\n",
      "train error:  0.00%\n",
      "epoch     88  total error         0.25   avg weight        65.598\n",
      "epoch     89  total error         0.25   avg weight        66.509\n",
      "train error:  0.00%\n",
      "epoch     90  total error         0.25   avg weight         67.42\n",
      "epoch     91  total error         0.25   avg weight        68.333\n",
      "train error:  0.00%\n",
      "epoch     92  total error         0.25   avg weight        69.245\n",
      "epoch     93  total error         0.25   avg weight        70.158\n",
      "train error:  0.00%\n",
      "epoch     94  total error         0.25   avg weight        71.071\n",
      "epoch     95  total error         0.25   avg weight        71.985\n",
      "train error:  0.00%\n",
      "epoch     96  total error         0.25   avg weight        72.899\n",
      "epoch     97  total error         0.25   avg weight        73.814\n",
      "train error:  0.00%\n",
      "epoch     98  total error         0.25   avg weight        74.729\n",
      "epoch     99  total error         0.25   avg weight        75.644\n",
      "train error:  0.00%\n",
      "epoch    100  total error         0.25   avg weight        76.559\n",
      "epoch    101  total error         0.25   avg weight        77.475\n",
      "train error:  0.00%\n",
      "epoch    102  total error         0.25   avg weight        78.391\n",
      "epoch    103  total error         0.25   avg weight        79.307\n",
      "train error:  0.00%\n",
      "epoch    104  total error         0.25   avg weight        80.224\n",
      "epoch    105  total error         0.25   avg weight        81.141\n",
      "train error:  0.00%\n",
      "epoch    106  total error         0.25   avg weight        82.058\n",
      "epoch    107  total error         0.25   avg weight        82.976\n",
      "train error:  0.00%\n",
      "epoch    108  total error         0.25   avg weight        83.893\n",
      "epoch    109  total error         0.25   avg weight        84.811\n",
      "train error:  0.00%\n",
      "epoch    110  total error         0.25   avg weight        85.729\n",
      "epoch    111  total error         0.25   avg weight        86.648\n",
      "train error:  0.00%\n",
      "epoch    112  total error         0.25   avg weight        87.566\n",
      "epoch    113  total error         0.25   avg weight        88.485\n",
      "train error:  0.00%\n",
      "epoch    114  total error         0.25   avg weight        89.404\n",
      "epoch    115  total error         0.25   avg weight        90.323\n",
      "train error:  0.00%\n",
      "epoch    116  total error         0.25   avg weight        91.243\n",
      "epoch    117  total error         0.25   avg weight        92.162\n",
      "train error:  0.00%\n",
      "epoch    118  total error         0.25   avg weight        93.082\n",
      "epoch    119  total error         0.25   avg weight        94.002\n",
      "train error:  0.00%\n",
      "epoch    120  total error         0.25   avg weight        94.922\n",
      "epoch    121  total error         0.25   avg weight        95.842\n",
      "train error:  0.00%\n",
      "epoch    122  total error         0.25   avg weight        96.762\n",
      "epoch    123  total error         0.25   avg weight        97.683\n",
      "train error:  0.00%\n",
      "epoch    124  total error         0.25   avg weight        98.604\n",
      "epoch    125  total error         0.25   avg weight        99.524\n",
      "train error:  0.00%\n",
      "epoch    126  total error         0.25   avg weight        100.45\n",
      "epoch    127  total error         0.25   avg weight        101.37\n",
      "train error:  0.00%\n",
      "epoch    128  total error         0.25   avg weight        102.29\n",
      "epoch    129  total error         0.25   avg weight        103.21\n",
      "train error:  0.00%\n",
      "epoch    130  total error         0.25   avg weight        104.13\n",
      "epoch    131  total error         0.25   avg weight        105.05\n",
      "train error:  0.00%\n",
      "epoch    132  total error         0.25   avg weight        105.97\n",
      "epoch    133  total error         0.25   avg weight         106.9\n",
      "train error:  0.00%\n",
      "epoch    134  total error         0.25   avg weight        107.82\n",
      "epoch    135  total error         0.25   avg weight        108.74\n",
      "train error:  0.00%\n",
      "epoch    136  total error         0.25   avg weight        109.66\n",
      "epoch    137  total error         0.25   avg weight        110.58\n",
      "train error:  0.00%\n",
      "epoch    138  total error         0.25   avg weight        111.51\n",
      "epoch    139  total error         0.25   avg weight        112.43\n",
      "train error:  0.00%\n",
      "epoch    140  total error         0.25   avg weight        113.35\n",
      "epoch    141  total error         0.25   avg weight        114.27\n",
      "train error:  0.00%\n",
      "epoch    142  total error         0.25   avg weight         115.2\n",
      "epoch    143  total error         0.25   avg weight        116.12\n",
      "train error:  0.00%\n",
      "epoch    144  total error         0.25   avg weight        117.04\n",
      "epoch    145  total error         0.25   avg weight        117.97\n",
      "train error:  0.00%\n",
      "epoch    146  total error         0.25   avg weight        118.89\n",
      "epoch    147  total error         0.25   avg weight        119.81\n",
      "train error:  0.00%\n",
      "epoch    148  total error         0.25   avg weight        120.74\n",
      "epoch    149  total error         0.25   avg weight        121.66\n",
      "train error:  0.00%\n",
      "epoch    150  total error         0.25   avg weight        122.58\n",
      "epoch    151  total error         0.25   avg weight        123.51\n",
      "train error:  0.00%\n",
      "epoch    152  total error         0.25   avg weight        124.43\n",
      "epoch    153  total error         0.25   avg weight        125.35\n",
      "train error:  0.00%\n",
      "epoch    154  total error         0.25   avg weight        126.28\n",
      "epoch    155  total error         0.25   avg weight         127.2\n",
      "train error:  0.00%\n",
      "epoch    156  total error         0.25   avg weight        128.12\n",
      "epoch    157  total error         0.25   avg weight        129.05\n",
      "train error:  0.00%\n",
      "epoch    158  total error         0.25   avg weight        129.97\n",
      "epoch    159  total error         0.25   avg weight         130.9\n",
      "train error:  0.00%\n",
      "epoch    160  total error         0.25   avg weight        131.82\n",
      "epoch    161  total error         0.25   avg weight        132.75\n",
      "train error:  0.00%\n",
      "epoch    162  total error         0.25   avg weight        133.67\n",
      "epoch    163  total error         0.25   avg weight        134.59\n",
      "train error:  0.00%\n",
      "epoch    164  total error         0.25   avg weight        135.52\n",
      "epoch    165  total error         0.25   avg weight        136.44\n",
      "train error:  0.00%\n",
      "epoch    166  total error         0.25   avg weight        137.37\n",
      "epoch    167  total error         0.25   avg weight        138.29\n",
      "train error:  0.00%\n",
      "epoch    168  total error         0.25   avg weight        139.22\n",
      "epoch    169  total error         0.25   avg weight        140.14\n",
      "train error:  0.00%\n",
      "epoch    170  total error         0.25   avg weight        141.07\n",
      "epoch    171  total error         0.25   avg weight        141.99\n",
      "train error:  0.00%\n",
      "epoch    172  total error         0.25   avg weight        142.91\n",
      "epoch    173  total error         0.25   avg weight        143.84\n",
      "train error:  0.00%\n",
      "epoch    174  total error         0.25   avg weight        144.76\n",
      "epoch    175  total error         0.25   avg weight        145.69\n",
      "train error:  0.00%\n",
      "epoch    176  total error         0.25   avg weight        146.61\n",
      "epoch    177  total error         0.25   avg weight        147.54\n",
      "train error:  0.00%\n",
      "epoch    178  total error         0.25   avg weight        148.46\n",
      "epoch    179  total error         0.25   avg weight        149.39\n",
      "train error:  0.00%\n",
      "epoch    180  total error         0.25   avg weight        150.31\n",
      "epoch    181  total error         0.25   avg weight        151.24\n",
      "train error:  0.00%\n",
      "epoch    182  total error         0.25   avg weight        152.17\n",
      "epoch    183  total error         0.25   avg weight        153.09\n",
      "train error:  0.00%\n",
      "epoch    184  total error         0.25   avg weight        154.02\n",
      "epoch    185  total error         0.25   avg weight        154.94\n",
      "train error:  0.00%\n",
      "epoch    186  total error         0.25   avg weight        155.87\n",
      "epoch    187  total error         0.25   avg weight        156.79\n",
      "train error:  0.00%\n",
      "epoch    188  total error         0.25   avg weight        157.72\n",
      "epoch    189  total error         0.25   avg weight        158.64\n",
      "train error:  0.00%\n",
      "epoch    190  total error         0.25   avg weight        159.57\n",
      "epoch    191  total error         0.25   avg weight        160.49\n",
      "train error:  0.00%\n",
      "epoch    192  total error         0.25   avg weight        161.42\n",
      "epoch    193  total error         0.25   avg weight        162.35\n",
      "train error:  0.00%\n",
      "epoch    194  total error         0.25   avg weight        163.27\n",
      "epoch    195  total error         0.25   avg weight         164.2\n",
      "train error:  0.00%\n",
      "epoch    196  total error         0.25   avg weight        165.12\n",
      "epoch    197  total error         0.25   avg weight        166.05\n",
      "train error:  0.00%\n",
      "epoch    198  total error         0.25   avg weight        166.97\n",
      "epoch    199  total error         0.25   avg weight         167.9\n",
      "train error:  0.00%\n"
     ]
    }
   ],
   "source": [
    "for i in range(100):\n",
    "    trainer.trainEpochs( 2 )\n",
    "    trnresult = 100. * (1.0-testOnSequenceData(rnn, DS))\n",
    "    print(\"train error: %5.2f%%\" % trnresult)\n",
    "\n"
   ]
  },
  {
   "cell_type": "code",
   "execution_count": 182,
   "metadata": {
    "collapsed": false
   },
   "outputs": [
    {
     "name": "stdout",
     "output_type": "stream",
     "text": [
      "[[ 0.52933012]\n",
      " [ 0.55118339]\n",
      " [-0.98807656]\n",
      " [ 0.27118649]\n",
      " [ 0.76236977]\n",
      " [-0.90570202]\n",
      " [-0.00855971]\n",
      " [ 0.91282621]\n",
      " [-0.75117977]\n",
      " [-0.28762404]\n",
      " [ 0.76279204]\n",
      " [ 0.95627036]\n",
      " [ 0.27055812]\n",
      " [-0.66390401]\n",
      " [-0.98797585]\n",
      " [-0.40370726]\n",
      " [ 0.55172793]\n",
      " [ 0.999907  ]\n",
      " [ 0.52877619]\n",
      " [-0.42850901]]\n",
      "[[0]\n",
      " [0]\n",
      " [0]\n",
      " [0]\n",
      " [0]\n",
      " [0]\n",
      " [0]\n",
      " [0]\n",
      " [0]\n",
      " [0]\n",
      " [1]\n",
      " [1]\n",
      " [1]\n",
      " [1]\n",
      " [1]\n",
      " [1]\n",
      " [1]\n",
      " [1]\n",
      " [1]\n",
      " [1]]\n"
     ]
    }
   ],
   "source": [
    "print DS['input']\n",
    "print DS['target']"
   ]
  },
  {
   "cell_type": "code",
   "execution_count": 152,
   "metadata": {
    "collapsed": false
   },
   "outputs": [
    {
     "data": {
      "text/plain": [
       "array([ 0.,  1.])"
      ]
     },
     "execution_count": 152,
     "metadata": {},
     "output_type": "execute_result"
    }
   ],
   "source": [
    "rnn.activate(.34)"
   ]
  },
  {
   "cell_type": "code",
   "execution_count": 153,
   "metadata": {
    "collapsed": true
   },
   "outputs": [],
   "source": [
    "rnn.reset()"
   ]
  },
  {
   "cell_type": "code",
   "execution_count": 154,
   "metadata": {
    "collapsed": false
   },
   "outputs": [
    {
     "data": {
      "text/plain": [
       "1.0"
      ]
     },
     "execution_count": 154,
     "metadata": {},
     "output_type": "execute_result"
    }
   ],
   "source": [
    "testOnSequenceData(rnn,DS)"
   ]
  },
  {
   "cell_type": "code",
   "execution_count": 161,
   "metadata": {
    "collapsed": false
   },
   "outputs": [
    {
     "name": "stdout",
     "output_type": "stream",
     "text": [
      "[  1.00000000e+00   8.01601307e-21]\n",
      "[ 0.  1.]\n",
      "[ 0.  1.]\n",
      "[ 0.5  0.5]\n",
      "[ 0.  1.]\n",
      "[ 0.  1.]\n",
      "[ 0.5  0.5]\n",
      "[  4.57148581e-257   1.00000000e+000]\n",
      "[ 0.  1.]\n",
      "[ 0.5  0.5]\n"
     ]
    }
   ],
   "source": [
    "for i in y1:\n",
    "    print rnn.activate(i)\n",
    "    rnn.reset()"
   ]
  },
  {
   "cell_type": "code",
   "execution_count": 162,
   "metadata": {
    "collapsed": false
   },
   "outputs": [
    {
     "name": "stdout",
     "output_type": "stream",
     "text": [
      "[  1.32787954e-17   1.00000000e+00]\n",
      "[ 0.  1.]\n",
      "[ 0.  1.]\n",
      "[ 0.  1.]\n",
      "[  2.19476720e-198   1.00000000e+000]\n",
      "[ 0.5  0.5]\n",
      "[ 0.5  0.5]\n",
      "[ 0.  1.]\n",
      "[ 0.  1.]\n",
      "[ 0.  1.]\n"
     ]
    }
   ],
   "source": [
    "for i in y2:\n",
    "    print rnn.activate(i)\n",
    "    rnn.reset()"
   ]
  },
  {
   "cell_type": "code",
   "execution_count": 164,
   "metadata": {
    "collapsed": false
   },
   "outputs": [
    {
     "data": {
      "text/plain": [
       "array([  4.33475700e+01,   5.57011843e+01,   3.54452828e+01,\n",
       "         3.27501197e+01,   3.45615292e+01,   5.24702771e+01,\n",
       "         5.88004545e+01,   3.00480303e+00,   1.82491194e-01,\n",
       "         1.49663086e+00,   7.25987381e-01,  -9.62709513e-01,\n",
       "         2.55862736e+01,  -4.36679779e+00,   1.26840073e+01,\n",
       "         5.04582502e+01,   4.91380753e+01,   3.70005479e+01,\n",
       "         3.91910410e+01,   1.60686729e+01,   2.09007012e-01,\n",
       "         5.62077189e+00,   7.80029032e+00,   1.21259538e+01,\n",
       "         7.33058158e+00,  -1.04414895e+01,  -3.11113597e+00,\n",
       "        -4.38228266e+00,  -2.62485406e+00,   8.09677683e-01,\n",
       "        -9.84164957e-01,   1.31237473e+00,   4.22860027e+00,\n",
       "        -2.87015444e+01,   1.19821302e+01,   6.83934060e-01,\n",
       "         2.84653105e+00,  -2.50642631e-01,   1.54913487e+00,\n",
       "         4.45441004e+01,  -8.53093490e+02,   8.55568048e+02,\n",
       "        -4.83703755e+02,   3.93119063e+02,  -3.59932421e+02,\n",
       "         8.55573343e+02,  -8.54823638e+02,  -4.19256478e+02,\n",
       "         3.34821448e+02,  -3.13419003e+02,  -4.73529714e-01,\n",
       "         2.23918239e+00,   1.32724405e-02,  -4.75414543e+00,\n",
       "         1.26876966e+00,  -4.30389365e-01,  -1.25901099e+00,\n",
       "         5.68890990e+00,  -3.66532034e-02,   7.64499268e+00,\n",
       "         1.83301429e+01,  -6.60509562e+00,   1.19571512e+00,\n",
       "        -1.47934120e+01,   1.24634019e+02,  -2.60320784e+00,\n",
       "        -2.58336371e-01,   3.83818269e+00,  -4.35453465e+01,\n",
       "         2.90475174e+01,   2.28430962e-01,  -3.04669551e+00,\n",
       "         5.74095618e+00,  -6.80448490e+00,   1.41951077e+02,\n",
       "         1.21714306e+00,   1.81797624e-01,   1.27932030e+00,\n",
       "        -2.20314774e+00,   1.28764614e+01,  -7.63625080e-01,\n",
       "        -3.16835772e+00,   1.73400541e+00,  -4.45891301e+00,\n",
       "         3.21642575e+01,   1.20197973e+01,  -9.64729798e+01,\n",
       "         3.91044964e-02,  -2.62900752e+00,   4.87910411e+00,\n",
       "         1.42329935e+02,  -1.09128607e+02,   1.66758695e+00,\n",
       "        -8.19246024e-01,   7.40219718e-01,  -1.20160536e+02,\n",
       "         1.21135620e+02,  -1.81784979e+01,  -1.46527776e-01,\n",
       "        -3.72845634e+00,   6.45759354e+01,  -2.84285315e+01,\n",
       "         3.41453598e+00,   5.45423804e-01,  -2.48603494e+00,\n",
       "        -1.68792499e+00,   7.64009223e+01,  -2.30663065e+00,\n",
       "         2.07360300e-01,  -1.53511976e+00,   2.89956266e+01,\n",
       "         4.47260708e+00,   8.98773031e-01,  -1.42850356e+00,\n",
       "        -7.69957861e-01,  -8.94632581e+01,   2.88686612e+01,\n",
       "        -9.91003377e+00,   9.61105621e-01,  -1.70931807e+00,\n",
       "        -3.05647716e+01,   6.12973449e+01,  -1.90466249e+00,\n",
       "         2.36763043e+00,   1.08356083e+00,  -4.62485746e-01,\n",
       "         1.36340887e+00,  -1.82496721e-02,  -1.23418295e+01,\n",
       "         3.02292226e+01,   9.51255113e-01,   4.44297522e+00,\n",
       "         5.51488342e+00,  -5.32014324e+00,   1.96006809e+01,\n",
       "         1.30411695e+00,  -1.00410161e+01,   1.55315866e+00,\n",
       "        -6.02236359e+01,   1.67891236e+01,   1.23266394e+00,\n",
       "         4.05410032e-01,   2.18667615e+01,  -2.18724890e+01,\n",
       "         1.13563323e-01,   5.81144776e+01,  -2.96073086e+01,\n",
       "         6.62116124e+00,  -9.32378312e-01,   1.27101310e+01])"
      ]
     },
     "execution_count": 164,
     "metadata": {},
     "output_type": "execute_result"
    }
   ],
   "source": [
    "rnn.params"
   ]
  },
  {
   "cell_type": "code",
   "execution_count": null,
   "metadata": {
    "collapsed": true
   },
   "outputs": [],
   "source": []
  }
 ],
 "metadata": {
  "kernelspec": {
   "display_name": "Python 2",
   "language": "python",
   "name": "python2"
  },
  "language_info": {
   "codemirror_mode": {
    "name": "ipython",
    "version": 2
   },
   "file_extension": ".py",
   "mimetype": "text/x-python",
   "name": "python",
   "nbconvert_exporter": "python",
   "pygments_lexer": "ipython2",
   "version": "2.7.11"
  }
 },
 "nbformat": 4,
 "nbformat_minor": 0
}
