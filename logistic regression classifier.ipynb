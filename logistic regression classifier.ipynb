{
 "cells": [
  {
   "cell_type": "markdown",
   "metadata": {},
   "source": [
    "# This code predicts weather a person is likely to have PD or not based on his features"
   ]
  },
  {
   "cell_type": "markdown",
   "metadata": {},
   "source": [
    "### Importing libraries"
   ]
  },
  {
   "cell_type": "code",
   "execution_count": 2,
   "metadata": {
    "collapsed": false
   },
   "outputs": [
    {
     "ename": "ImportError",
     "evalue": "No module named logit",
     "output_type": "error",
     "traceback": [
      "\u001b[1;31m---------------------------------------------------------------------------\u001b[0m",
      "\u001b[1;31mImportError\u001b[0m                               Traceback (most recent call last)",
      "\u001b[1;32m<ipython-input-2-bba7b3283a99>\u001b[0m in \u001b[0;36m<module>\u001b[1;34m()\u001b[0m\n\u001b[0;32m      2\u001b[0m \u001b[1;32mimport\u001b[0m \u001b[0mpandas\u001b[0m \u001b[1;32mas\u001b[0m \u001b[0mpd\u001b[0m\u001b[1;33m\u001b[0m\u001b[0m\n\u001b[0;32m      3\u001b[0m \u001b[1;32mimport\u001b[0m \u001b[0mmatplotlib\u001b[0m\u001b[1;33m.\u001b[0m\u001b[0mpyplot\u001b[0m \u001b[1;32mas\u001b[0m \u001b[0mplt\u001b[0m\u001b[1;33m\u001b[0m\u001b[0m\n\u001b[1;32m----> 4\u001b[1;33m \u001b[1;32mimport\u001b[0m \u001b[0mlogit\u001b[0m\u001b[1;33m\u001b[0m\u001b[0m\n\u001b[0m",
      "\u001b[1;31mImportError\u001b[0m: No module named logit"
     ]
    }
   ],
   "source": [
    "import numpy as np\n",
    "import pandas as pd\n",
    "import matplotlib.pyplot as plt\n",
    "import logit"
   ]
  },
  {
   "cell_type": "code",
   "execution_count": 15,
   "metadata": {
    "collapsed": false
   },
   "outputs": [],
   "source": [
    "df=pd.read_csv(\"Beforemedicationbaselineupdrs3.csv\")"
   ]
  },
  {
   "cell_type": "code",
   "execution_count": 16,
   "metadata": {
    "collapsed": false
   },
   "outputs": [
    {
     "data": {
      "text/html": [
       "<div style=\"max-height:1000px;max-width:1500px;overflow:auto;\">\n",
       "<table border=\"1\" class=\"dataframe\">\n",
       "  <thead>\n",
       "    <tr style=\"text-align: right;\">\n",
       "      <th></th>\n",
       "      <th>Unnamed: 0</th>\n",
       "      <th>PATNO</th>\n",
       "      <th>PAG_NAME</th>\n",
       "      <th>NP3FACXP</th>\n",
       "      <th>NP3SPCH</th>\n",
       "      <th>NP3RIGN</th>\n",
       "      <th>NP3RIGRU</th>\n",
       "      <th>NP3RIGLU</th>\n",
       "      <th>PN3RIGRL</th>\n",
       "      <th>NP3RIGLL</th>\n",
       "      <th>...</th>\n",
       "      <th>NP3RTALU</th>\n",
       "      <th>NP3RTARL</th>\n",
       "      <th>NP3RTALL</th>\n",
       "      <th>NP3RTALJ</th>\n",
       "      <th>NP3RTCON</th>\n",
       "      <th>DYSKPRES</th>\n",
       "      <th>DYSKIRAT</th>\n",
       "      <th>NHY</th>\n",
       "      <th>PD_MED_USE</th>\n",
       "      <th>DIAG</th>\n",
       "    </tr>\n",
       "  </thead>\n",
       "  <tbody>\n",
       "    <tr>\n",
       "      <th>0</th>\n",
       "      <td> 0</td>\n",
       "      <td> 3816</td>\n",
       "      <td> NUPDRS3</td>\n",
       "      <td> 0</td>\n",
       "      <td> 0</td>\n",
       "      <td> 0</td>\n",
       "      <td> 0</td>\n",
       "      <td> 0</td>\n",
       "      <td> 0</td>\n",
       "      <td> 0</td>\n",
       "      <td>...</td>\n",
       "      <td> 0</td>\n",
       "      <td> 0</td>\n",
       "      <td> 0</td>\n",
       "      <td> 0</td>\n",
       "      <td> 0</td>\n",
       "      <td> 0</td>\n",
       "      <td>NaN</td>\n",
       "      <td> 0</td>\n",
       "      <td> 0</td>\n",
       "      <td> NotPD</td>\n",
       "    </tr>\n",
       "    <tr>\n",
       "      <th>1</th>\n",
       "      <td> 1</td>\n",
       "      <td> 3762</td>\n",
       "      <td> NUPDRS3</td>\n",
       "      <td> 1</td>\n",
       "      <td> 0</td>\n",
       "      <td> 0</td>\n",
       "      <td> 1</td>\n",
       "      <td> 1</td>\n",
       "      <td> 0</td>\n",
       "      <td> 0</td>\n",
       "      <td>...</td>\n",
       "      <td> 0</td>\n",
       "      <td> 0</td>\n",
       "      <td> 0</td>\n",
       "      <td> 0</td>\n",
       "      <td> 1</td>\n",
       "      <td> 1</td>\n",
       "      <td>  1</td>\n",
       "      <td> 2</td>\n",
       "      <td> 0</td>\n",
       "      <td>    PD</td>\n",
       "    </tr>\n",
       "    <tr>\n",
       "      <th>2</th>\n",
       "      <td> 2</td>\n",
       "      <td> 3765</td>\n",
       "      <td> NUPDRS3</td>\n",
       "      <td> 0</td>\n",
       "      <td> 0</td>\n",
       "      <td> 0</td>\n",
       "      <td> 0</td>\n",
       "      <td> 0</td>\n",
       "      <td> 0</td>\n",
       "      <td> 0</td>\n",
       "      <td>...</td>\n",
       "      <td> 0</td>\n",
       "      <td> 0</td>\n",
       "      <td> 0</td>\n",
       "      <td> 0</td>\n",
       "      <td> 0</td>\n",
       "      <td> 0</td>\n",
       "      <td>NaN</td>\n",
       "      <td> 0</td>\n",
       "      <td> 0</td>\n",
       "      <td> NotPD</td>\n",
       "    </tr>\n",
       "    <tr>\n",
       "      <th>3</th>\n",
       "      <td> 3</td>\n",
       "      <td> 3075</td>\n",
       "      <td> NUPDRS3</td>\n",
       "      <td> 0</td>\n",
       "      <td> 0</td>\n",
       "      <td> 0</td>\n",
       "      <td> 0</td>\n",
       "      <td> 0</td>\n",
       "      <td> 0</td>\n",
       "      <td> 0</td>\n",
       "      <td>...</td>\n",
       "      <td> 0</td>\n",
       "      <td> 0</td>\n",
       "      <td> 0</td>\n",
       "      <td> 0</td>\n",
       "      <td> 0</td>\n",
       "      <td> 0</td>\n",
       "      <td>NaN</td>\n",
       "      <td> 0</td>\n",
       "      <td> 0</td>\n",
       "      <td> NotPD</td>\n",
       "    </tr>\n",
       "    <tr>\n",
       "      <th>4</th>\n",
       "      <td> 4</td>\n",
       "      <td> 3760</td>\n",
       "      <td> NUPDRS3</td>\n",
       "      <td> 1</td>\n",
       "      <td> 1</td>\n",
       "      <td> 1</td>\n",
       "      <td> 0</td>\n",
       "      <td> 1</td>\n",
       "      <td> 0</td>\n",
       "      <td> 0</td>\n",
       "      <td>...</td>\n",
       "      <td> 0</td>\n",
       "      <td> 0</td>\n",
       "      <td> 0</td>\n",
       "      <td> 0</td>\n",
       "      <td> 0</td>\n",
       "      <td> 0</td>\n",
       "      <td>NaN</td>\n",
       "      <td> 2</td>\n",
       "      <td> 0</td>\n",
       "      <td>    PD</td>\n",
       "    </tr>\n",
       "  </tbody>\n",
       "</table>\n",
       "<p>5 rows × 41 columns</p>\n",
       "</div>"
      ],
      "text/plain": [
       "   Unnamed: 0  PATNO PAG_NAME  NP3FACXP  NP3SPCH  NP3RIGN  NP3RIGRU  NP3RIGLU  \\\n",
       "0           0   3816  NUPDRS3         0        0        0         0         0   \n",
       "1           1   3762  NUPDRS3         1        0        0         1         1   \n",
       "2           2   3765  NUPDRS3         0        0        0         0         0   \n",
       "3           3   3075  NUPDRS3         0        0        0         0         0   \n",
       "4           4   3760  NUPDRS3         1        1        1         0         1   \n",
       "\n",
       "   PN3RIGRL  NP3RIGLL    ...     NP3RTALU  NP3RTARL  NP3RTALL  NP3RTALJ  \\\n",
       "0         0         0    ...            0         0         0         0   \n",
       "1         0         0    ...            0         0         0         0   \n",
       "2         0         0    ...            0         0         0         0   \n",
       "3         0         0    ...            0         0         0         0   \n",
       "4         0         0    ...            0         0         0         0   \n",
       "\n",
       "   NP3RTCON  DYSKPRES  DYSKIRAT  NHY  PD_MED_USE   DIAG  \n",
       "0         0         0       NaN    0           0  NotPD  \n",
       "1         1         1         1    2           0     PD  \n",
       "2         0         0       NaN    0           0  NotPD  \n",
       "3         0         0       NaN    0           0  NotPD  \n",
       "4         0         0       NaN    2           0     PD  \n",
       "\n",
       "[5 rows x 41 columns]"
      ]
     },
     "execution_count": 16,
     "metadata": {},
     "output_type": "execute_result"
    }
   ],
   "source": [
    "df.head()"
   ]
  },
  {
   "cell_type": "code",
   "execution_count": 9,
   "metadata": {
    "collapsed": false
   },
   "outputs": [
    {
     "data": {
      "text/html": [
       "<div style=\"max-height:1000px;max-width:1500px;overflow:auto;\">\n",
       "<table border=\"1\" class=\"dataframe\">\n",
       "  <thead>\n",
       "    <tr style=\"text-align: right;\">\n",
       "      <th></th>\n",
       "      <th>NP3SPCH</th>\n",
       "      <th>NP3FACXP</th>\n",
       "      <th>NP3RIGN</th>\n",
       "      <th>NP3RIGRU</th>\n",
       "      <th>NP3RIGLU</th>\n",
       "      <th>PN3RIGRL</th>\n",
       "      <th>NP3RIGLL</th>\n",
       "      <th>NP3FTAPR</th>\n",
       "      <th>NP3FTAPL</th>\n",
       "      <th>NP3HMOVR</th>\n",
       "      <th>...</th>\n",
       "      <th>NP3RTARU</th>\n",
       "      <th>NP3RTALU</th>\n",
       "      <th>NP3RTARL</th>\n",
       "      <th>NP3RTALL</th>\n",
       "      <th>NP3RTALJ</th>\n",
       "      <th>NP3RTCON</th>\n",
       "      <th>DYSKPRES</th>\n",
       "      <th>NHY</th>\n",
       "      <th>PD_MED_USE</th>\n",
       "      <th>DIAG</th>\n",
       "    </tr>\n",
       "  </thead>\n",
       "  <tbody>\n",
       "    <tr>\n",
       "      <th>1251</th>\n",
       "      <td> 0</td>\n",
       "      <td> 0</td>\n",
       "      <td> 0</td>\n",
       "      <td> 1</td>\n",
       "      <td> 0</td>\n",
       "      <td> 0</td>\n",
       "      <td> 0</td>\n",
       "      <td> 0</td>\n",
       "      <td> 0</td>\n",
       "      <td> 0</td>\n",
       "      <td>...</td>\n",
       "      <td> 0</td>\n",
       "      <td> 0</td>\n",
       "      <td> 0</td>\n",
       "      <td> 0</td>\n",
       "      <td> 0</td>\n",
       "      <td> 0</td>\n",
       "      <td> 0</td>\n",
       "      <td> 0</td>\n",
       "      <td> 0</td>\n",
       "      <td> NotPD</td>\n",
       "    </tr>\n",
       "    <tr>\n",
       "      <th>1252</th>\n",
       "      <td> 0</td>\n",
       "      <td> 0</td>\n",
       "      <td> 0</td>\n",
       "      <td> 0</td>\n",
       "      <td> 1</td>\n",
       "      <td> 0</td>\n",
       "      <td> 0</td>\n",
       "      <td> 0</td>\n",
       "      <td> 1</td>\n",
       "      <td> 0</td>\n",
       "      <td>...</td>\n",
       "      <td> 0</td>\n",
       "      <td> 0</td>\n",
       "      <td> 0</td>\n",
       "      <td> 0</td>\n",
       "      <td> 0</td>\n",
       "      <td> 0</td>\n",
       "      <td> 0</td>\n",
       "      <td> 0</td>\n",
       "      <td> 0</td>\n",
       "      <td> NotPD</td>\n",
       "    </tr>\n",
       "    <tr>\n",
       "      <th>1253</th>\n",
       "      <td> 0</td>\n",
       "      <td> 0</td>\n",
       "      <td> 0</td>\n",
       "      <td> 0</td>\n",
       "      <td> 0</td>\n",
       "      <td> 0</td>\n",
       "      <td> 0</td>\n",
       "      <td> 0</td>\n",
       "      <td> 0</td>\n",
       "      <td> 0</td>\n",
       "      <td>...</td>\n",
       "      <td> 0</td>\n",
       "      <td> 0</td>\n",
       "      <td> 0</td>\n",
       "      <td> 0</td>\n",
       "      <td> 0</td>\n",
       "      <td> 0</td>\n",
       "      <td> 0</td>\n",
       "      <td> 0</td>\n",
       "      <td> 0</td>\n",
       "      <td> NotPD</td>\n",
       "    </tr>\n",
       "    <tr>\n",
       "      <th>1254</th>\n",
       "      <td> 1</td>\n",
       "      <td> 1</td>\n",
       "      <td> 2</td>\n",
       "      <td> 3</td>\n",
       "      <td> 3</td>\n",
       "      <td> 1</td>\n",
       "      <td> 2</td>\n",
       "      <td> 1</td>\n",
       "      <td> 1</td>\n",
       "      <td> 0</td>\n",
       "      <td>...</td>\n",
       "      <td> 0</td>\n",
       "      <td> 1</td>\n",
       "      <td> 0</td>\n",
       "      <td> 0</td>\n",
       "      <td> 0</td>\n",
       "      <td> 1</td>\n",
       "      <td> 0</td>\n",
       "      <td> 2</td>\n",
       "      <td> 7</td>\n",
       "      <td>    PD</td>\n",
       "    </tr>\n",
       "    <tr>\n",
       "      <th>1255</th>\n",
       "      <td> 0</td>\n",
       "      <td> 0</td>\n",
       "      <td> 0</td>\n",
       "      <td> 1</td>\n",
       "      <td> 0</td>\n",
       "      <td> 0</td>\n",
       "      <td> 0</td>\n",
       "      <td> 0</td>\n",
       "      <td> 0</td>\n",
       "      <td> 0</td>\n",
       "      <td>...</td>\n",
       "      <td> 0</td>\n",
       "      <td> 0</td>\n",
       "      <td> 0</td>\n",
       "      <td> 0</td>\n",
       "      <td> 0</td>\n",
       "      <td> 0</td>\n",
       "      <td> 0</td>\n",
       "      <td> 0</td>\n",
       "      <td> 0</td>\n",
       "      <td> NotPD</td>\n",
       "    </tr>\n",
       "  </tbody>\n",
       "</table>\n",
       "<p>5 rows × 37 columns</p>\n",
       "</div>"
      ],
      "text/plain": [
       "      NP3SPCH  NP3FACXP  NP3RIGN  NP3RIGRU  NP3RIGLU  PN3RIGRL  NP3RIGLL  \\\n",
       "1251        0         0        0         1         0         0         0   \n",
       "1252        0         0        0         0         1         0         0   \n",
       "1253        0         0        0         0         0         0         0   \n",
       "1254        1         1        2         3         3         1         2   \n",
       "1255        0         0        0         1         0         0         0   \n",
       "\n",
       "      NP3FTAPR  NP3FTAPL  NP3HMOVR    ...     NP3RTARU  NP3RTALU  NP3RTARL  \\\n",
       "1251         0         0         0    ...            0         0         0   \n",
       "1252         0         1         0    ...            0         0         0   \n",
       "1253         0         0         0    ...            0         0         0   \n",
       "1254         1         1         0    ...            0         1         0   \n",
       "1255         0         0         0    ...            0         0         0   \n",
       "\n",
       "      NP3RTALL  NP3RTALJ  NP3RTCON  DYSKPRES  NHY  PD_MED_USE   DIAG  \n",
       "1251         0         0         0         0    0           0  NotPD  \n",
       "1252         0         0         0         0    0           0  NotPD  \n",
       "1253         0         0         0         0    0           0  NotPD  \n",
       "1254         0         0         1         0    2           7     PD  \n",
       "1255         0         0         0         0    0           0  NotPD  \n",
       "\n",
       "[5 rows x 37 columns]"
      ]
     },
     "execution_count": 9,
     "metadata": {},
     "output_type": "execute_result"
    }
   ],
   "source": [
    "df.tail()"
   ]
  },
  {
   "cell_type": "markdown",
   "metadata": {},
   "source": [
    "### Deleting unnecessary columns "
   ]
  },
  {
   "cell_type": "code",
   "execution_count": 17,
   "metadata": {
    "collapsed": false
   },
   "outputs": [],
   "source": [
    "del df[\"DYSKIRAT\"]\n",
    "del df[\"PATNO\"]\n",
    "del df[\"Unnamed: 0\"]\n",
    "del df[\"PAG_NAME\"]\n",
    "#del df[\"DIAG\"]\n",
    "del df[\"PD_MED_USE\"]"
   ]
  },
  {
   "cell_type": "code",
   "execution_count": 21,
   "metadata": {
    "collapsed": false
   },
   "outputs": [
    {
     "data": {
      "text/plain": [
       "False"
      ]
     },
     "execution_count": 21,
     "metadata": {},
     "output_type": "execute_result"
    }
   ],
   "source": [
    "df.isnull().values.any() #finding if there are any null values"
   ]
  },
  {
   "cell_type": "code",
   "execution_count": 22,
   "metadata": {
    "collapsed": false
   },
   "outputs": [
    {
     "data": {
      "text/plain": [
       "1250"
      ]
     },
     "execution_count": 22,
     "metadata": {},
     "output_type": "execute_result"
    }
   ],
   "source": [
    "len(df)"
   ]
  },
  {
   "cell_type": "code",
   "execution_count": 20,
   "metadata": {
    "collapsed": false
   },
   "outputs": [],
   "source": [
    "df=df.dropna()"
   ]
  },
  {
   "cell_type": "markdown",
   "metadata": {},
   "source": [
    "## Finding if there are any correlations"
   ]
  },
  {
   "cell_type": "code",
   "execution_count": 10,
   "metadata": {
    "collapsed": true
   },
   "outputs": [],
   "source": [
    "def plot_corr(df,size=11):\n",
    "    corr=df.corr()\n",
    "    fig,ax=plt.subplots(figsize=(size,size))\n",
    "    ax.matshow(corr)\n",
    "    plt.xticks(range(len(corr.columns)),corr.columns)\n",
    "    plt.yticks(range(len(corr.columns)),corr.columns)\n",
    "    "
   ]
  },
  {
   "cell_type": "code",
   "execution_count": 47,
   "metadata": {
    "collapsed": false
   },
   "outputs": [],
   "source": [
    "#%matplotlib inline\n",
    "plot_corr(df)"
   ]
  },
  {
   "cell_type": "code",
   "execution_count": 48,
   "metadata": {
    "collapsed": true
   },
   "outputs": [],
   "source": [
    "plt.show()"
   ]
  },
  {
   "cell_type": "code",
   "execution_count": 16,
   "metadata": {
    "collapsed": false
   },
   "outputs": [],
   "source": [
    "test=df.corr()"
   ]
  },
  {
   "cell_type": "code",
   "execution_count": 14,
   "metadata": {
    "collapsed": false
   },
   "outputs": [],
   "source": [
    "def TT(test,column):\n",
    "    a=test[test[str(column)]>0.5]\n",
    "    return a[str(column)]"
   ]
  },
  {
   "cell_type": "code",
   "execution_count": 75,
   "metadata": {
    "collapsed": false
   },
   "outputs": [],
   "source": [
    "from IPython.display import clear_output\n",
    "for i in test.columns:\n",
    "    print i\n",
    "    print TT(test,i)\n",
    "    a=raw_input(\"Press Enter to continue...\")\n",
    "    clear_output()\n"
   ]
  },
  {
   "cell_type": "code",
   "execution_count": 90,
   "metadata": {
    "collapsed": false
   },
   "outputs": [],
   "source": [
    "#del df[\"NP3LGAGL\"]\n",
    "#del df[\"NP3LGAGR\"]\n",
    "del df[\"DYSKPRES\"]"
   ]
  },
  {
   "cell_type": "code",
   "execution_count": 91,
   "metadata": {
    "collapsed": true
   },
   "outputs": [],
   "source": [
    "del df[\"NP3RIGRU\"]"
   ]
  },
  {
   "cell_type": "code",
   "execution_count": 92,
   "metadata": {
    "collapsed": true
   },
   "outputs": [],
   "source": [
    "del df[\"NP3RIGLU\"]\n",
    "del df[\"NP3FTAPL\"]\n",
    "del df[\"NP3FTAPR\"]\n",
    "del df[\"NP3PRSPR\"]\n",
    "del df[\"NP3PRSPL\"]"
   ]
  },
  {
   "cell_type": "code",
   "execution_count": 93,
   "metadata": {
    "collapsed": true
   },
   "outputs": [],
   "source": [
    "del df[\"NP3TTAPL\"]\n",
    "del df[\"NP3TTAPR\"]"
   ]
  },
  {
   "cell_type": "code",
   "execution_count": 94,
   "metadata": {
    "collapsed": true
   },
   "outputs": [],
   "source": [
    "del df[\"NP3FACXP\"]\n",
    "del df[\"NHY\"]"
   ]
  },
  {
   "cell_type": "markdown",
   "metadata": {},
   "source": [
    "### CHECK TRUE OR FALSE RATIO\n"
   ]
  },
  {
   "cell_type": "code",
   "execution_count": 9,
   "metadata": {
    "collapsed": false
   },
   "outputs": [],
   "source": [
    "#diabetes_map={True:1,False:0}\n",
    "#df[\"diabetes\"]=df[\"diabetes\"].map(diabetes_map)"
   ]
  },
  {
   "cell_type": "code",
   "execution_count": 10,
   "metadata": {
    "collapsed": false
   },
   "outputs": [
    {
     "name": "stdout",
     "output_type": "stream",
     "text": [
      "('Number of True cases: ', (672, 0))\n",
      "('Number of False cases: ', (578, 0))\n"
     ]
    }
   ],
   "source": [
    "num_true=len(df.loc[df[\"DIAG\"] == \"PD\"])\n",
    "num_false=len(df.loc[df[\"DIAG\"] == \"NotPD\"])\n",
    "print(\"Number of True cases: \", (num_true,(num_true/(num_true+num_false))*100))\n",
    "print(\"Number of False cases: \", (num_false,(num_false/(num_true+num_false))*100))\n"
   ]
  },
  {
   "cell_type": "markdown",
   "metadata": {},
   "source": [
    "### Splitting the data "
   ]
  },
  {
   "cell_type": "code",
   "execution_count": 23,
   "metadata": {
    "collapsed": false
   },
   "outputs": [],
   "source": [
    "from sklearn.cross_validation import train_test_split\n"
   ]
  },
  {
   "cell_type": "code",
   "execution_count": 24,
   "metadata": {
    "collapsed": false
   },
   "outputs": [],
   "source": [
    "features=df.columns.delete(-1)\n",
    "predicted=df.columns-features\n",
    "X=df[features].values\n",
    "Y=df[predicted].values\n",
    "X_train,X_test,Y_train,Y_test=train_test_split(X,Y,test_size=0.3,random_state=42)"
   ]
  },
  {
   "cell_type": "code",
   "execution_count": 10,
   "metadata": {
    "collapsed": false
   },
   "outputs": [],
   "source": [
    "#Y_test"
   ]
  },
  {
   "cell_type": "markdown",
   "metadata": {},
   "source": [
    "### Checking Zeroes"
   ]
  },
  {
   "cell_type": "code",
   "execution_count": 39,
   "metadata": {
    "collapsed": false
   },
   "outputs": [
    {
     "name": "stdout",
     "output_type": "stream",
     "text": [
      "rows in dataframe  1252\n",
      "rows missing glucose conc "
     ]
    },
    {
     "ename": "KeyError",
     "evalue": "'glucose_conc'",
     "output_type": "error",
     "traceback": [
      "\u001b[1;31m---------------------------------------------------------------------------\u001b[0m",
      "\u001b[1;31mKeyError\u001b[0m                                  Traceback (most recent call last)",
      "\u001b[1;32m<ipython-input-39-050124ee1591>\u001b[0m in \u001b[0;36m<module>\u001b[1;34m()\u001b[0m\n\u001b[0;32m      1\u001b[0m \u001b[1;32mprint\u001b[0m \u001b[1;34m\"rows in dataframe \"\u001b[0m\u001b[1;33m,\u001b[0m\u001b[0mlen\u001b[0m\u001b[1;33m(\u001b[0m\u001b[0mdf\u001b[0m\u001b[1;33m)\u001b[0m\u001b[1;33m\u001b[0m\u001b[0m\n\u001b[1;32m----> 2\u001b[1;33m \u001b[1;32mprint\u001b[0m \u001b[1;34m\"rows missing glucose conc \"\u001b[0m\u001b[1;33m,\u001b[0m \u001b[0mlen\u001b[0m\u001b[1;33m(\u001b[0m\u001b[0mdf\u001b[0m\u001b[1;33m.\u001b[0m\u001b[0mloc\u001b[0m\u001b[1;33m[\u001b[0m\u001b[0mdf\u001b[0m\u001b[1;33m[\u001b[0m\u001b[1;34m\"glucose_conc\"\u001b[0m\u001b[1;33m]\u001b[0m \u001b[1;33m==\u001b[0m \u001b[1;36m0\u001b[0m\u001b[1;33m]\u001b[0m\u001b[1;33m)\u001b[0m\u001b[1;33m\u001b[0m\u001b[0m\n\u001b[0m\u001b[0;32m      3\u001b[0m \u001b[1;32mprint\u001b[0m \u001b[1;34m\"rows misssing bp\"\u001b[0m\u001b[1;33m,\u001b[0m \u001b[0mlen\u001b[0m\u001b[1;33m(\u001b[0m\u001b[0mdf\u001b[0m\u001b[1;33m.\u001b[0m\u001b[0mloc\u001b[0m\u001b[1;33m[\u001b[0m\u001b[0mdf\u001b[0m\u001b[1;33m[\u001b[0m\u001b[1;34m\"diastolic_bp\"\u001b[0m\u001b[1;33m]\u001b[0m\u001b[1;33m==\u001b[0m\u001b[1;36m0\u001b[0m\u001b[1;33m]\u001b[0m\u001b[1;33m)\u001b[0m\u001b[1;33m\u001b[0m\u001b[0m\n\u001b[0;32m      4\u001b[0m \u001b[1;32mprint\u001b[0m \u001b[1;34m\"rows missing insulin \"\u001b[0m\u001b[1;33m,\u001b[0m\u001b[0mlen\u001b[0m\u001b[1;33m(\u001b[0m\u001b[0mdf\u001b[0m\u001b[1;33m.\u001b[0m\u001b[0mloc\u001b[0m\u001b[1;33m[\u001b[0m\u001b[0mdf\u001b[0m\u001b[1;33m[\u001b[0m\u001b[1;34m\"insulin\"\u001b[0m\u001b[1;33m]\u001b[0m\u001b[1;33m==\u001b[0m\u001b[1;36m0\u001b[0m\u001b[1;33m]\u001b[0m\u001b[1;33m)\u001b[0m\u001b[1;33m\u001b[0m\u001b[0m\n\u001b[0;32m      5\u001b[0m \u001b[1;32mprint\u001b[0m \u001b[1;34m\"rows missing bmi \"\u001b[0m\u001b[1;33m,\u001b[0m\u001b[0mlen\u001b[0m\u001b[1;33m(\u001b[0m\u001b[0mdf\u001b[0m\u001b[1;33m.\u001b[0m\u001b[0mloc\u001b[0m\u001b[1;33m[\u001b[0m\u001b[0mdf\u001b[0m\u001b[1;33m[\u001b[0m\u001b[1;34m\"bmi\"\u001b[0m\u001b[1;33m]\u001b[0m \u001b[1;33m==\u001b[0m \u001b[1;36m0\u001b[0m\u001b[1;33m]\u001b[0m\u001b[1;33m)\u001b[0m\u001b[1;33m\u001b[0m\u001b[0m\n",
      "\u001b[1;32m/usr/lib/python2.7/dist-packages/pandas/core/frame.pyc\u001b[0m in \u001b[0;36m__getitem__\u001b[1;34m(self, key)\u001b[0m\n\u001b[0;32m   1676\u001b[0m             \u001b[1;32mreturn\u001b[0m \u001b[0mself\u001b[0m\u001b[1;33m.\u001b[0m\u001b[0m_getitem_multilevel\u001b[0m\u001b[1;33m(\u001b[0m\u001b[0mkey\u001b[0m\u001b[1;33m)\u001b[0m\u001b[1;33m\u001b[0m\u001b[0m\n\u001b[0;32m   1677\u001b[0m         \u001b[1;32melse\u001b[0m\u001b[1;33m:\u001b[0m\u001b[1;33m\u001b[0m\u001b[0m\n\u001b[1;32m-> 1678\u001b[1;33m             \u001b[1;32mreturn\u001b[0m \u001b[0mself\u001b[0m\u001b[1;33m.\u001b[0m\u001b[0m_getitem_column\u001b[0m\u001b[1;33m(\u001b[0m\u001b[0mkey\u001b[0m\u001b[1;33m)\u001b[0m\u001b[1;33m\u001b[0m\u001b[0m\n\u001b[0m\u001b[0;32m   1679\u001b[0m \u001b[1;33m\u001b[0m\u001b[0m\n\u001b[0;32m   1680\u001b[0m     \u001b[1;32mdef\u001b[0m \u001b[0m_getitem_column\u001b[0m\u001b[1;33m(\u001b[0m\u001b[0mself\u001b[0m\u001b[1;33m,\u001b[0m \u001b[0mkey\u001b[0m\u001b[1;33m)\u001b[0m\u001b[1;33m:\u001b[0m\u001b[1;33m\u001b[0m\u001b[0m\n",
      "\u001b[1;32m/usr/lib/python2.7/dist-packages/pandas/core/frame.pyc\u001b[0m in \u001b[0;36m_getitem_column\u001b[1;34m(self, key)\u001b[0m\n\u001b[0;32m   1683\u001b[0m         \u001b[1;31m# get column\u001b[0m\u001b[1;33m\u001b[0m\u001b[1;33m\u001b[0m\u001b[0m\n\u001b[0;32m   1684\u001b[0m         \u001b[1;32mif\u001b[0m \u001b[0mself\u001b[0m\u001b[1;33m.\u001b[0m\u001b[0mcolumns\u001b[0m\u001b[1;33m.\u001b[0m\u001b[0mis_unique\u001b[0m\u001b[1;33m:\u001b[0m\u001b[1;33m\u001b[0m\u001b[0m\n\u001b[1;32m-> 1685\u001b[1;33m             \u001b[1;32mreturn\u001b[0m \u001b[0mself\u001b[0m\u001b[1;33m.\u001b[0m\u001b[0m_get_item_cache\u001b[0m\u001b[1;33m(\u001b[0m\u001b[0mkey\u001b[0m\u001b[1;33m)\u001b[0m\u001b[1;33m\u001b[0m\u001b[0m\n\u001b[0m\u001b[0;32m   1686\u001b[0m \u001b[1;33m\u001b[0m\u001b[0m\n\u001b[0;32m   1687\u001b[0m         \u001b[1;31m# duplicate columns & possible reduce dimensionaility\u001b[0m\u001b[1;33m\u001b[0m\u001b[1;33m\u001b[0m\u001b[0m\n",
      "\u001b[1;32m/usr/lib/python2.7/dist-packages/pandas/core/generic.pyc\u001b[0m in \u001b[0;36m_get_item_cache\u001b[1;34m(self, item)\u001b[0m\n\u001b[0;32m   1050\u001b[0m         \u001b[0mres\u001b[0m \u001b[1;33m=\u001b[0m \u001b[0mcache\u001b[0m\u001b[1;33m.\u001b[0m\u001b[0mget\u001b[0m\u001b[1;33m(\u001b[0m\u001b[0mitem\u001b[0m\u001b[1;33m)\u001b[0m\u001b[1;33m\u001b[0m\u001b[0m\n\u001b[0;32m   1051\u001b[0m         \u001b[1;32mif\u001b[0m \u001b[0mres\u001b[0m \u001b[1;32mis\u001b[0m \u001b[0mNone\u001b[0m\u001b[1;33m:\u001b[0m\u001b[1;33m\u001b[0m\u001b[0m\n\u001b[1;32m-> 1052\u001b[1;33m             \u001b[0mvalues\u001b[0m \u001b[1;33m=\u001b[0m \u001b[0mself\u001b[0m\u001b[1;33m.\u001b[0m\u001b[0m_data\u001b[0m\u001b[1;33m.\u001b[0m\u001b[0mget\u001b[0m\u001b[1;33m(\u001b[0m\u001b[0mitem\u001b[0m\u001b[1;33m)\u001b[0m\u001b[1;33m\u001b[0m\u001b[0m\n\u001b[0m\u001b[0;32m   1053\u001b[0m             \u001b[0mres\u001b[0m \u001b[1;33m=\u001b[0m \u001b[0mself\u001b[0m\u001b[1;33m.\u001b[0m\u001b[0m_box_item_values\u001b[0m\u001b[1;33m(\u001b[0m\u001b[0mitem\u001b[0m\u001b[1;33m,\u001b[0m \u001b[0mvalues\u001b[0m\u001b[1;33m)\u001b[0m\u001b[1;33m\u001b[0m\u001b[0m\n\u001b[0;32m   1054\u001b[0m             \u001b[0mcache\u001b[0m\u001b[1;33m[\u001b[0m\u001b[0mitem\u001b[0m\u001b[1;33m]\u001b[0m \u001b[1;33m=\u001b[0m \u001b[0mres\u001b[0m\u001b[1;33m\u001b[0m\u001b[0m\n",
      "\u001b[1;32m/usr/lib/python2.7/dist-packages/pandas/core/internals.pyc\u001b[0m in \u001b[0;36mget\u001b[1;34m(self, item, fastpath)\u001b[0m\n\u001b[0;32m   2563\u001b[0m \u001b[1;33m\u001b[0m\u001b[0m\n\u001b[0;32m   2564\u001b[0m             \u001b[1;32mif\u001b[0m \u001b[1;32mnot\u001b[0m \u001b[0misnull\u001b[0m\u001b[1;33m(\u001b[0m\u001b[0mitem\u001b[0m\u001b[1;33m)\u001b[0m\u001b[1;33m:\u001b[0m\u001b[1;33m\u001b[0m\u001b[0m\n\u001b[1;32m-> 2565\u001b[1;33m                 \u001b[0mloc\u001b[0m \u001b[1;33m=\u001b[0m \u001b[0mself\u001b[0m\u001b[1;33m.\u001b[0m\u001b[0mitems\u001b[0m\u001b[1;33m.\u001b[0m\u001b[0mget_loc\u001b[0m\u001b[1;33m(\u001b[0m\u001b[0mitem\u001b[0m\u001b[1;33m)\u001b[0m\u001b[1;33m\u001b[0m\u001b[0m\n\u001b[0m\u001b[0;32m   2566\u001b[0m             \u001b[1;32melse\u001b[0m\u001b[1;33m:\u001b[0m\u001b[1;33m\u001b[0m\u001b[0m\n\u001b[0;32m   2567\u001b[0m                 \u001b[0mindexer\u001b[0m \u001b[1;33m=\u001b[0m \u001b[0mnp\u001b[0m\u001b[1;33m.\u001b[0m\u001b[0marange\u001b[0m\u001b[1;33m(\u001b[0m\u001b[0mlen\u001b[0m\u001b[1;33m(\u001b[0m\u001b[0mself\u001b[0m\u001b[1;33m.\u001b[0m\u001b[0mitems\u001b[0m\u001b[1;33m)\u001b[0m\u001b[1;33m)\u001b[0m\u001b[1;33m[\u001b[0m\u001b[0misnull\u001b[0m\u001b[1;33m(\u001b[0m\u001b[0mself\u001b[0m\u001b[1;33m.\u001b[0m\u001b[0mitems\u001b[0m\u001b[1;33m)\u001b[0m\u001b[1;33m]\u001b[0m\u001b[1;33m\u001b[0m\u001b[0m\n",
      "\u001b[1;32m/usr/lib/python2.7/dist-packages/pandas/core/index.pyc\u001b[0m in \u001b[0;36mget_loc\u001b[1;34m(self, key)\u001b[0m\n\u001b[0;32m   1179\u001b[0m         \u001b[0mloc\u001b[0m \u001b[1;33m:\u001b[0m \u001b[0mint\u001b[0m \u001b[1;32mif\u001b[0m \u001b[0munique\u001b[0m \u001b[0mindex\u001b[0m\u001b[1;33m,\u001b[0m \u001b[0mpossibly\u001b[0m \u001b[0mslice\u001b[0m \u001b[1;32mor\u001b[0m \u001b[0mmask\u001b[0m \u001b[1;32mif\u001b[0m \u001b[1;32mnot\u001b[0m\u001b[1;33m\u001b[0m\u001b[0m\n\u001b[0;32m   1180\u001b[0m         \"\"\"\n\u001b[1;32m-> 1181\u001b[1;33m         \u001b[1;32mreturn\u001b[0m \u001b[0mself\u001b[0m\u001b[1;33m.\u001b[0m\u001b[0m_engine\u001b[0m\u001b[1;33m.\u001b[0m\u001b[0mget_loc\u001b[0m\u001b[1;33m(\u001b[0m\u001b[0m_values_from_object\u001b[0m\u001b[1;33m(\u001b[0m\u001b[0mkey\u001b[0m\u001b[1;33m)\u001b[0m\u001b[1;33m)\u001b[0m\u001b[1;33m\u001b[0m\u001b[0m\n\u001b[0m\u001b[0;32m   1182\u001b[0m \u001b[1;33m\u001b[0m\u001b[0m\n\u001b[0;32m   1183\u001b[0m     \u001b[1;32mdef\u001b[0m \u001b[0mget_value\u001b[0m\u001b[1;33m(\u001b[0m\u001b[0mself\u001b[0m\u001b[1;33m,\u001b[0m \u001b[0mseries\u001b[0m\u001b[1;33m,\u001b[0m \u001b[0mkey\u001b[0m\u001b[1;33m)\u001b[0m\u001b[1;33m:\u001b[0m\u001b[1;33m\u001b[0m\u001b[0m\n",
      "\u001b[1;32mindex.pyx\u001b[0m in \u001b[0;36mpandas.index.IndexEngine.get_loc (pandas/index.c:3656)\u001b[1;34m()\u001b[0m\n",
      "\u001b[1;32mindex.pyx\u001b[0m in \u001b[0;36mpandas.index.IndexEngine.get_loc (pandas/index.c:3534)\u001b[1;34m()\u001b[0m\n",
      "\u001b[1;32mhashtable.pyx\u001b[0m in \u001b[0;36mpandas.hashtable.PyObjectHashTable.get_item (pandas/hashtable.c:11911)\u001b[1;34m()\u001b[0m\n",
      "\u001b[1;32mhashtable.pyx\u001b[0m in \u001b[0;36mpandas.hashtable.PyObjectHashTable.get_item (pandas/hashtable.c:11864)\u001b[1;34m()\u001b[0m\n",
      "\u001b[1;31mKeyError\u001b[0m: 'glucose_conc'"
     ]
    }
   ],
   "source": [
    "print \"rows in dataframe \",len(df)\n",
    "print \"rows missing glucose conc \", len(df.loc[df[\"glucose_conc\"] == 0])\n",
    "print \"rows misssing bp\", len(df.loc[df[\"diastolic_bp\"]==0])\n",
    "print \"rows missing insulin \",len(df.loc[df[\"insulin\"]==0])\n",
    "print \"rows missing bmi \",len(df.loc[df[\"bmi\"] == 0])\n",
    "print \"rows missing diabetes predispositon function \",len(df.loc[df[\"diab_pred\"] == 0])\n",
    "print \"rows missing age \",len(df.loc[df[\"age\"] == 0])"
   ]
  },
  {
   "cell_type": "markdown",
   "metadata": {},
   "source": [
    "## Imputing Missing values using mean of the column"
   ]
  },
  {
   "cell_type": "code",
   "execution_count": 81,
   "metadata": {
    "collapsed": false
   },
   "outputs": [],
   "source": [
    "from sklearn.preprocessing import Imputer\n",
    "\n",
    "#Imputing missing values with mean\n",
    "fill_0=Imputer(missing_values=0,strategy=\"mean\",axis=0)\n",
    "X_train=fill_0.fit_transform(X_train)\n",
    "X_test=fill_0.fit_transform(X_test)"
   ]
  },
  {
   "cell_type": "markdown",
   "metadata": {},
   "source": [
    "## Training algorithm logistic regression"
   ]
  },
  {
   "cell_type": "code",
   "execution_count": 25,
   "metadata": {
    "collapsed": false
   },
   "outputs": [
    {
     "data": {
      "text/plain": [
       "LogisticRegression(C=100000.0, class_weight=None, dual=False,\n",
       "          fit_intercept=True, intercept_scaling=1, max_iter=100,\n",
       "          multi_class='ovr', n_jobs=1, penalty='l2', random_state=None,\n",
       "          solver='liblinear', tol=0.0001, verbose=0, warm_start=False)"
      ]
     },
     "execution_count": 25,
     "metadata": {},
     "output_type": "execute_result"
    }
   ],
   "source": [
    "from sklearn import linear_model\n",
    "logit = linear_model.LogisticRegression(C=1e5)\n",
    "logit.fit(X_train,Y_train.ravel())"
   ]
  },
  {
   "cell_type": "code",
   "execution_count": 26,
   "metadata": {
    "collapsed": false
   },
   "outputs": [
    {
     "name": "stdout",
     "output_type": "stream",
     "text": [
      "The coefficients are  [[ 1.14841223 -0.64117228  0.58028057  0.58221171  0.23207188  1.14639573\n",
      "  -0.39613151  1.3809578  -0.92069318 -1.4114435   0.79250999  0.23372469\n",
      "   0.56666079 -0.03438597  0.40530408  0.05774863 -1.12404301 -0.8196564\n",
      "   0.72464922 -0.61875428 -0.5915064   0.16399351  0.7797863  -1.27845943\n",
      "   0.97193234 -0.80522236 -0.12615661 -0.08260717  0.56236134 -0.49886105\n",
      "   0.47490169  1.95441319  0.30911931  7.52774436  2.23642196]]\n"
     ]
    }
   ],
   "source": [
    "print \"The coefficients are \",logit.coef_"
   ]
  },
  {
   "cell_type": "code",
   "execution_count": 46,
   "metadata": {
    "collapsed": false
   },
   "outputs": [
    {
     "name": "stdout",
     "output_type": "stream",
     "text": [
      "[ 1.14841223  0.64117228  0.58028057  0.58221171  0.23207188  1.14639573\n",
      "  0.39613151  1.3809578   0.92069318  1.4114435   0.79250999  0.23372469\n",
      "  0.56666079  0.03438597  0.40530408  0.05774863  1.12404301  0.8196564\n",
      "  0.72464922  0.61875428  0.5915064   0.16399351  0.7797863   1.27845943\n",
      "  0.97193234  0.80522236  0.12615661  0.08260717  0.56236134  0.49886105\n",
      "  0.47490169  1.95441319  0.30911931  7.52774436  2.23642196]\n"
     ]
    }
   ],
   "source": [
    "a=abs(logit.coef_[0])\n",
    "print a"
   ]
  },
  {
   "cell_type": "code",
   "execution_count": 47,
   "metadata": {
    "collapsed": false
   },
   "outputs": [],
   "source": [
    "dict={}\n",
    "for i in range(len(df.columns)-1):\n",
    "    dict[str(df.columns[i])]=a[i]\n",
    "    \n",
    "    "
   ]
  },
  {
   "cell_type": "code",
   "execution_count": 48,
   "metadata": {
    "collapsed": false
   },
   "outputs": [],
   "source": [
    "import operator\n",
    "x = dict\n",
    "sorted_x = sorted(x.items(), key=operator.itemgetter(1))"
   ]
  },
  {
   "cell_type": "code",
   "execution_count": 1,
   "metadata": {
    "collapsed": false
   },
   "outputs": [
    {
     "ename": "NameError",
     "evalue": "name 'sorted_x' is not defined",
     "output_type": "error",
     "traceback": [
      "\u001b[1;31m---------------------------------------------------------------------------\u001b[0m",
      "\u001b[1;31mNameError\u001b[0m                                 Traceback (most recent call last)",
      "\u001b[1;32m<ipython-input-1-963c2268c2bd>\u001b[0m in \u001b[0;36m<module>\u001b[1;34m()\u001b[0m\n\u001b[1;32m----> 1\u001b[1;33m \u001b[0msorted_x\u001b[0m\u001b[1;33m\u001b[0m\u001b[0m\n\u001b[0m",
      "\u001b[1;31mNameError\u001b[0m: name 'sorted_x' is not defined"
     ]
    }
   ],
   "source": [
    "sorted_x"
   ]
  },
  {
   "cell_type": "code",
   "execution_count": 15,
   "metadata": {
    "collapsed": false
   },
   "outputs": [
    {
     "name": "stdout",
     "output_type": "stream",
     "text": [
      "The Intercept is  [-4.43038171]\n"
     ]
    }
   ],
   "source": [
    "print \"The Intercept is \",logit.intercept_"
   ]
  },
  {
   "cell_type": "markdown",
   "metadata": {},
   "source": [
    "## Predicting the values of test data from the model"
   ]
  },
  {
   "cell_type": "code",
   "execution_count": 105,
   "metadata": {
    "collapsed": true
   },
   "outputs": [],
   "source": [
    "def model(x):\n",
    "    return 1/(1+(np.exp(-x)))"
   ]
  },
  {
   "cell_type": "code",
   "execution_count": 106,
   "metadata": {
    "collapsed": false
   },
   "outputs": [],
   "source": [
    "a=(X_test*logit.coef_)\n",
    "y_pred=[]"
   ]
  },
  {
   "cell_type": "code",
   "execution_count": 107,
   "metadata": {
    "collapsed": false
   },
   "outputs": [],
   "source": [
    "for i in a:\n",
    "    y_pred.append(model(np.sum(i)+logit.intercept_))"
   ]
  },
  {
   "cell_type": "code",
   "execution_count": 108,
   "metadata": {
    "collapsed": false
   },
   "outputs": [],
   "source": [
    "y_pred=np.array(y_pred)"
   ]
  },
  {
   "cell_type": "code",
   "execution_count": 109,
   "metadata": {
    "collapsed": false
   },
   "outputs": [],
   "source": [
    "#y_pred"
   ]
  },
  {
   "cell_type": "markdown",
   "metadata": {},
   "source": [
    "## Creating a classification from the predicted value of the model"
   ]
  },
  {
   "cell_type": "code",
   "execution_count": 110,
   "metadata": {
    "collapsed": true
   },
   "outputs": [],
   "source": [
    "Y_pred=[]"
   ]
  },
  {
   "cell_type": "code",
   "execution_count": 111,
   "metadata": {
    "collapsed": false
   },
   "outputs": [],
   "source": [
    "for i in y_pred:\n",
    "    if i < 0.5:\n",
    "        Y_pred.append(\"NotPD\")\n",
    "    else:\n",
    "        Y_pred.append(\"PD\")\n",
    "        "
   ]
  },
  {
   "cell_type": "code",
   "execution_count": 112,
   "metadata": {
    "collapsed": false
   },
   "outputs": [],
   "source": [
    "Y_pred=np.array(Y_pred)\n",
    "Y_pred=Y_pred.ravel()\n",
    "Y_pred=Y_pred[:,np.newaxis]\n",
    "#Y_pred"
   ]
  },
  {
   "cell_type": "code",
   "execution_count": 113,
   "metadata": {
    "collapsed": false
   },
   "outputs": [],
   "source": [
    "c=Y_test.shape[0]"
   ]
  },
  {
   "cell_type": "markdown",
   "metadata": {},
   "source": [
    "## Checking the accuracy of the model"
   ]
  },
  {
   "cell_type": "code",
   "execution_count": 114,
   "metadata": {
    "collapsed": false
   },
   "outputs": [],
   "source": [
    "fault=0\n",
    "for i in range(c):\n",
    "    if Y_test[i] == Y_pred[i]:\n",
    "    #if Y_test[i] == new_ypred[i]:\n",
    "        pass\n",
    "    else:\n",
    "        fault = fault + 1"
   ]
  },
  {
   "cell_type": "code",
   "execution_count": 115,
   "metadata": {
    "collapsed": false
   },
   "outputs": [
    {
     "name": "stdout",
     "output_type": "stream",
     "text": [
      "The accuracy is 92.5531914894\n"
     ]
    }
   ],
   "source": [
    "print \"The accuracy is\", (1-(fault/float(c)))*100"
   ]
  },
  {
   "cell_type": "markdown",
   "metadata": {},
   "source": [
    "## Checking weather the Algorithm is intact"
   ]
  },
  {
   "cell_type": "code",
   "execution_count": 32,
   "metadata": {
    "collapsed": false
   },
   "outputs": [],
   "source": [
    "new_ypred=[]\n",
    "for i in X_test:\n",
    "    new_ypred.append(logit.predict(i.reshape(1,-1)))"
   ]
  },
  {
   "cell_type": "code",
   "execution_count": 33,
   "metadata": {
    "collapsed": false
   },
   "outputs": [
    {
     "data": {
      "text/plain": [
       "[array(['PD'], dtype=object),\n",
       " array(['NotPD'], dtype=object),\n",
       " array(['NotPD'], dtype=object),\n",
       " array(['PD'], dtype=object),\n",
       " array(['PD'], dtype=object),\n",
       " array(['PD'], dtype=object),\n",
       " array(['NotPD'], dtype=object),\n",
       " array(['NotPD'], dtype=object),\n",
       " array(['PD'], dtype=object),\n",
       " array(['NotPD'], dtype=object),\n",
       " array(['PD'], dtype=object),\n",
       " array(['PD'], dtype=object),\n",
       " array(['PD'], dtype=object),\n",
       " array(['NotPD'], dtype=object),\n",
       " array(['PD'], dtype=object),\n",
       " array(['PD'], dtype=object),\n",
       " array(['NotPD'], dtype=object),\n",
       " array(['PD'], dtype=object),\n",
       " array(['PD'], dtype=object),\n",
       " array(['PD'], dtype=object),\n",
       " array(['PD'], dtype=object),\n",
       " array(['PD'], dtype=object),\n",
       " array(['PD'], dtype=object),\n",
       " array(['PD'], dtype=object),\n",
       " array(['NotPD'], dtype=object),\n",
       " array(['PD'], dtype=object),\n",
       " array(['PD'], dtype=object),\n",
       " array(['NotPD'], dtype=object),\n",
       " array(['NotPD'], dtype=object),\n",
       " array(['PD'], dtype=object),\n",
       " array(['PD'], dtype=object),\n",
       " array(['PD'], dtype=object),\n",
       " array(['PD'], dtype=object),\n",
       " array(['NotPD'], dtype=object),\n",
       " array(['PD'], dtype=object),\n",
       " array(['PD'], dtype=object),\n",
       " array(['NotPD'], dtype=object),\n",
       " array(['NotPD'], dtype=object),\n",
       " array(['PD'], dtype=object),\n",
       " array(['PD'], dtype=object),\n",
       " array(['PD'], dtype=object),\n",
       " array(['NotPD'], dtype=object),\n",
       " array(['NotPD'], dtype=object),\n",
       " array(['PD'], dtype=object),\n",
       " array(['NotPD'], dtype=object),\n",
       " array(['NotPD'], dtype=object),\n",
       " array(['NotPD'], dtype=object),\n",
       " array(['NotPD'], dtype=object),\n",
       " array(['NotPD'], dtype=object),\n",
       " array(['PD'], dtype=object),\n",
       " array(['PD'], dtype=object),\n",
       " array(['NotPD'], dtype=object),\n",
       " array(['PD'], dtype=object),\n",
       " array(['NotPD'], dtype=object),\n",
       " array(['PD'], dtype=object),\n",
       " array(['NotPD'], dtype=object),\n",
       " array(['PD'], dtype=object),\n",
       " array(['PD'], dtype=object),\n",
       " array(['NotPD'], dtype=object),\n",
       " array(['NotPD'], dtype=object),\n",
       " array(['PD'], dtype=object),\n",
       " array(['NotPD'], dtype=object),\n",
       " array(['NotPD'], dtype=object),\n",
       " array(['NotPD'], dtype=object),\n",
       " array(['PD'], dtype=object),\n",
       " array(['NotPD'], dtype=object),\n",
       " array(['NotPD'], dtype=object),\n",
       " array(['PD'], dtype=object),\n",
       " array(['NotPD'], dtype=object),\n",
       " array(['NotPD'], dtype=object),\n",
       " array(['PD'], dtype=object),\n",
       " array(['PD'], dtype=object),\n",
       " array(['NotPD'], dtype=object),\n",
       " array(['PD'], dtype=object),\n",
       " array(['PD'], dtype=object),\n",
       " array(['NotPD'], dtype=object),\n",
       " array(['PD'], dtype=object),\n",
       " array(['PD'], dtype=object),\n",
       " array(['NotPD'], dtype=object),\n",
       " array(['NotPD'], dtype=object),\n",
       " array(['PD'], dtype=object),\n",
       " array(['PD'], dtype=object),\n",
       " array(['NotPD'], dtype=object),\n",
       " array(['NotPD'], dtype=object),\n",
       " array(['PD'], dtype=object),\n",
       " array(['NotPD'], dtype=object),\n",
       " array(['PD'], dtype=object),\n",
       " array(['PD'], dtype=object),\n",
       " array(['PD'], dtype=object),\n",
       " array(['PD'], dtype=object),\n",
       " array(['NotPD'], dtype=object),\n",
       " array(['PD'], dtype=object),\n",
       " array(['PD'], dtype=object),\n",
       " array(['PD'], dtype=object),\n",
       " array(['PD'], dtype=object),\n",
       " array(['PD'], dtype=object),\n",
       " array(['NotPD'], dtype=object),\n",
       " array(['PD'], dtype=object),\n",
       " array(['NotPD'], dtype=object),\n",
       " array(['PD'], dtype=object),\n",
       " array(['NotPD'], dtype=object),\n",
       " array(['NotPD'], dtype=object),\n",
       " array(['PD'], dtype=object),\n",
       " array(['NotPD'], dtype=object),\n",
       " array(['PD'], dtype=object),\n",
       " array(['PD'], dtype=object),\n",
       " array(['NotPD'], dtype=object),\n",
       " array(['NotPD'], dtype=object),\n",
       " array(['NotPD'], dtype=object),\n",
       " array(['PD'], dtype=object),\n",
       " array(['NotPD'], dtype=object),\n",
       " array(['PD'], dtype=object),\n",
       " array(['NotPD'], dtype=object),\n",
       " array(['PD'], dtype=object),\n",
       " array(['NotPD'], dtype=object),\n",
       " array(['NotPD'], dtype=object),\n",
       " array(['PD'], dtype=object),\n",
       " array(['NotPD'], dtype=object),\n",
       " array(['PD'], dtype=object),\n",
       " array(['NotPD'], dtype=object),\n",
       " array(['PD'], dtype=object),\n",
       " array(['PD'], dtype=object),\n",
       " array(['PD'], dtype=object),\n",
       " array(['PD'], dtype=object),\n",
       " array(['PD'], dtype=object),\n",
       " array(['NotPD'], dtype=object),\n",
       " array(['PD'], dtype=object),\n",
       " array(['PD'], dtype=object),\n",
       " array(['NotPD'], dtype=object),\n",
       " array(['NotPD'], dtype=object),\n",
       " array(['PD'], dtype=object),\n",
       " array(['NotPD'], dtype=object),\n",
       " array(['NotPD'], dtype=object),\n",
       " array(['NotPD'], dtype=object),\n",
       " array(['PD'], dtype=object),\n",
       " array(['PD'], dtype=object),\n",
       " array(['PD'], dtype=object),\n",
       " array(['PD'], dtype=object),\n",
       " array(['PD'], dtype=object),\n",
       " array(['NotPD'], dtype=object),\n",
       " array(['PD'], dtype=object),\n",
       " array(['PD'], dtype=object),\n",
       " array(['NotPD'], dtype=object),\n",
       " array(['NotPD'], dtype=object),\n",
       " array(['NotPD'], dtype=object),\n",
       " array(['PD'], dtype=object),\n",
       " array(['PD'], dtype=object),\n",
       " array(['NotPD'], dtype=object),\n",
       " array(['NotPD'], dtype=object),\n",
       " array(['PD'], dtype=object),\n",
       " array(['PD'], dtype=object),\n",
       " array(['PD'], dtype=object),\n",
       " array(['PD'], dtype=object),\n",
       " array(['PD'], dtype=object),\n",
       " array(['PD'], dtype=object),\n",
       " array(['PD'], dtype=object),\n",
       " array(['PD'], dtype=object),\n",
       " array(['NotPD'], dtype=object),\n",
       " array(['PD'], dtype=object),\n",
       " array(['NotPD'], dtype=object),\n",
       " array(['PD'], dtype=object),\n",
       " array(['PD'], dtype=object),\n",
       " array(['PD'], dtype=object),\n",
       " array(['NotPD'], dtype=object),\n",
       " array(['NotPD'], dtype=object),\n",
       " array(['NotPD'], dtype=object),\n",
       " array(['PD'], dtype=object),\n",
       " array(['PD'], dtype=object),\n",
       " array(['NotPD'], dtype=object),\n",
       " array(['NotPD'], dtype=object),\n",
       " array(['NotPD'], dtype=object),\n",
       " array(['PD'], dtype=object),\n",
       " array(['NotPD'], dtype=object),\n",
       " array(['NotPD'], dtype=object),\n",
       " array(['NotPD'], dtype=object),\n",
       " array(['NotPD'], dtype=object),\n",
       " array(['PD'], dtype=object),\n",
       " array(['NotPD'], dtype=object),\n",
       " array(['NotPD'], dtype=object),\n",
       " array(['PD'], dtype=object),\n",
       " array(['PD'], dtype=object),\n",
       " array(['PD'], dtype=object),\n",
       " array(['PD'], dtype=object),\n",
       " array(['NotPD'], dtype=object),\n",
       " array(['PD'], dtype=object),\n",
       " array(['NotPD'], dtype=object),\n",
       " array(['NotPD'], dtype=object),\n",
       " array(['NotPD'], dtype=object),\n",
       " array(['PD'], dtype=object),\n",
       " array(['PD'], dtype=object),\n",
       " array(['NotPD'], dtype=object),\n",
       " array(['PD'], dtype=object),\n",
       " array(['PD'], dtype=object),\n",
       " array(['NotPD'], dtype=object),\n",
       " array(['NotPD'], dtype=object),\n",
       " array(['PD'], dtype=object),\n",
       " array(['PD'], dtype=object),\n",
       " array(['PD'], dtype=object),\n",
       " array(['NotPD'], dtype=object),\n",
       " array(['PD'], dtype=object),\n",
       " array(['PD'], dtype=object),\n",
       " array(['NotPD'], dtype=object),\n",
       " array(['NotPD'], dtype=object),\n",
       " array(['NotPD'], dtype=object),\n",
       " array(['PD'], dtype=object),\n",
       " array(['PD'], dtype=object),\n",
       " array(['NotPD'], dtype=object),\n",
       " array(['NotPD'], dtype=object),\n",
       " array(['NotPD'], dtype=object),\n",
       " array(['NotPD'], dtype=object),\n",
       " array(['PD'], dtype=object),\n",
       " array(['PD'], dtype=object),\n",
       " array(['PD'], dtype=object),\n",
       " array(['NotPD'], dtype=object),\n",
       " array(['NotPD'], dtype=object),\n",
       " array(['PD'], dtype=object),\n",
       " array(['PD'], dtype=object),\n",
       " array(['NotPD'], dtype=object),\n",
       " array(['NotPD'], dtype=object),\n",
       " array(['NotPD'], dtype=object),\n",
       " array(['NotPD'], dtype=object),\n",
       " array(['NotPD'], dtype=object),\n",
       " array(['NotPD'], dtype=object),\n",
       " array(['NotPD'], dtype=object),\n",
       " array(['PD'], dtype=object),\n",
       " array(['NotPD'], dtype=object),\n",
       " array(['NotPD'], dtype=object),\n",
       " array(['PD'], dtype=object),\n",
       " array(['PD'], dtype=object),\n",
       " array(['NotPD'], dtype=object),\n",
       " array(['NotPD'], dtype=object),\n",
       " array(['NotPD'], dtype=object),\n",
       " array(['NotPD'], dtype=object),\n",
       " array(['NotPD'], dtype=object),\n",
       " array(['PD'], dtype=object),\n",
       " array(['NotPD'], dtype=object),\n",
       " array(['PD'], dtype=object),\n",
       " array(['PD'], dtype=object),\n",
       " array(['PD'], dtype=object),\n",
       " array(['PD'], dtype=object),\n",
       " array(['NotPD'], dtype=object),\n",
       " array(['PD'], dtype=object),\n",
       " array(['NotPD'], dtype=object),\n",
       " array(['PD'], dtype=object),\n",
       " array(['NotPD'], dtype=object),\n",
       " array(['PD'], dtype=object),\n",
       " array(['NotPD'], dtype=object),\n",
       " array(['PD'], dtype=object),\n",
       " array(['PD'], dtype=object),\n",
       " array(['PD'], dtype=object),\n",
       " array(['NotPD'], dtype=object),\n",
       " array(['NotPD'], dtype=object),\n",
       " array(['PD'], dtype=object),\n",
       " array(['NotPD'], dtype=object),\n",
       " array(['NotPD'], dtype=object),\n",
       " array(['PD'], dtype=object),\n",
       " array(['NotPD'], dtype=object),\n",
       " array(['NotPD'], dtype=object),\n",
       " array(['NotPD'], dtype=object),\n",
       " array(['PD'], dtype=object),\n",
       " array(['PD'], dtype=object),\n",
       " array(['PD'], dtype=object),\n",
       " array(['NotPD'], dtype=object),\n",
       " array(['PD'], dtype=object),\n",
       " array(['PD'], dtype=object),\n",
       " array(['PD'], dtype=object),\n",
       " array(['NotPD'], dtype=object),\n",
       " array(['NotPD'], dtype=object),\n",
       " array(['PD'], dtype=object),\n",
       " array(['NotPD'], dtype=object),\n",
       " array(['PD'], dtype=object),\n",
       " array(['PD'], dtype=object),\n",
       " array(['NotPD'], dtype=object),\n",
       " array(['PD'], dtype=object),\n",
       " array(['PD'], dtype=object),\n",
       " array(['PD'], dtype=object),\n",
       " array(['NotPD'], dtype=object),\n",
       " array(['PD'], dtype=object),\n",
       " array(['PD'], dtype=object),\n",
       " array(['PD'], dtype=object),\n",
       " array(['NotPD'], dtype=object),\n",
       " array(['NotPD'], dtype=object),\n",
       " array(['PD'], dtype=object),\n",
       " array(['PD'], dtype=object),\n",
       " array(['PD'], dtype=object),\n",
       " array(['NotPD'], dtype=object),\n",
       " array(['NotPD'], dtype=object),\n",
       " array(['PD'], dtype=object),\n",
       " array(['PD'], dtype=object),\n",
       " array(['PD'], dtype=object),\n",
       " array(['PD'], dtype=object),\n",
       " array(['PD'], dtype=object),\n",
       " array(['PD'], dtype=object),\n",
       " array(['PD'], dtype=object),\n",
       " array(['PD'], dtype=object),\n",
       " array(['NotPD'], dtype=object),\n",
       " array(['NotPD'], dtype=object),\n",
       " array(['PD'], dtype=object),\n",
       " array(['PD'], dtype=object),\n",
       " array(['NotPD'], dtype=object),\n",
       " array(['NotPD'], dtype=object),\n",
       " array(['NotPD'], dtype=object),\n",
       " array(['PD'], dtype=object),\n",
       " array(['PD'], dtype=object),\n",
       " array(['PD'], dtype=object),\n",
       " array(['PD'], dtype=object),\n",
       " array(['NotPD'], dtype=object),\n",
       " array(['PD'], dtype=object),\n",
       " array(['PD'], dtype=object),\n",
       " array(['NotPD'], dtype=object),\n",
       " array(['PD'], dtype=object),\n",
       " array(['PD'], dtype=object),\n",
       " array(['PD'], dtype=object),\n",
       " array(['NotPD'], dtype=object),\n",
       " array(['PD'], dtype=object),\n",
       " array(['NotPD'], dtype=object),\n",
       " array(['NotPD'], dtype=object),\n",
       " array(['NotPD'], dtype=object),\n",
       " array(['NotPD'], dtype=object),\n",
       " array(['NotPD'], dtype=object),\n",
       " array(['PD'], dtype=object),\n",
       " array(['PD'], dtype=object),\n",
       " array(['PD'], dtype=object),\n",
       " array(['PD'], dtype=object),\n",
       " array(['NotPD'], dtype=object),\n",
       " array(['NotPD'], dtype=object),\n",
       " array(['NotPD'], dtype=object),\n",
       " array(['PD'], dtype=object),\n",
       " array(['NotPD'], dtype=object),\n",
       " array(['PD'], dtype=object),\n",
       " array(['NotPD'], dtype=object),\n",
       " array(['NotPD'], dtype=object),\n",
       " array(['NotPD'], dtype=object),\n",
       " array(['NotPD'], dtype=object),\n",
       " array(['PD'], dtype=object),\n",
       " array(['PD'], dtype=object),\n",
       " array(['PD'], dtype=object),\n",
       " array(['PD'], dtype=object),\n",
       " array(['NotPD'], dtype=object),\n",
       " array(['NotPD'], dtype=object),\n",
       " array(['NotPD'], dtype=object),\n",
       " array(['NotPD'], dtype=object),\n",
       " array(['NotPD'], dtype=object),\n",
       " array(['NotPD'], dtype=object),\n",
       " array(['PD'], dtype=object),\n",
       " array(['NotPD'], dtype=object),\n",
       " array(['NotPD'], dtype=object),\n",
       " array(['PD'], dtype=object),\n",
       " array(['NotPD'], dtype=object),\n",
       " array(['NotPD'], dtype=object),\n",
       " array(['NotPD'], dtype=object),\n",
       " array(['PD'], dtype=object),\n",
       " array(['PD'], dtype=object),\n",
       " array(['NotPD'], dtype=object),\n",
       " array(['NotPD'], dtype=object),\n",
       " array(['PD'], dtype=object),\n",
       " array(['PD'], dtype=object),\n",
       " array(['PD'], dtype=object),\n",
       " array(['PD'], dtype=object),\n",
       " array(['PD'], dtype=object),\n",
       " array(['PD'], dtype=object),\n",
       " array(['NotPD'], dtype=object),\n",
       " array(['NotPD'], dtype=object),\n",
       " array(['NotPD'], dtype=object),\n",
       " array(['PD'], dtype=object),\n",
       " array(['PD'], dtype=object),\n",
       " array(['PD'], dtype=object),\n",
       " array(['PD'], dtype=object),\n",
       " array(['NotPD'], dtype=object),\n",
       " array(['NotPD'], dtype=object),\n",
       " array(['NotPD'], dtype=object),\n",
       " array(['PD'], dtype=object),\n",
       " array(['PD'], dtype=object),\n",
       " array(['PD'], dtype=object),\n",
       " array(['NotPD'], dtype=object)]"
      ]
     },
     "execution_count": 33,
     "metadata": {},
     "output_type": "execute_result"
    }
   ],
   "source": [
    "new_ypred"
   ]
  },
  {
   "cell_type": "code",
   "execution_count": 34,
   "metadata": {
    "collapsed": false
   },
   "outputs": [
    {
     "data": {
      "text/plain": [
       "array([[ True],\n",
       "       [ True],\n",
       "       [ True],\n",
       "       [ True],\n",
       "       [ True],\n",
       "       [ True],\n",
       "       [ True],\n",
       "       [ True],\n",
       "       [ True],\n",
       "       [ True],\n",
       "       [ True],\n",
       "       [ True],\n",
       "       [ True],\n",
       "       [ True],\n",
       "       [ True],\n",
       "       [ True],\n",
       "       [ True],\n",
       "       [ True],\n",
       "       [ True],\n",
       "       [ True],\n",
       "       [ True],\n",
       "       [ True],\n",
       "       [ True],\n",
       "       [ True],\n",
       "       [ True],\n",
       "       [ True],\n",
       "       [ True],\n",
       "       [ True],\n",
       "       [ True],\n",
       "       [ True],\n",
       "       [ True],\n",
       "       [ True],\n",
       "       [ True],\n",
       "       [ True],\n",
       "       [ True],\n",
       "       [ True],\n",
       "       [ True],\n",
       "       [ True],\n",
       "       [ True],\n",
       "       [ True],\n",
       "       [ True],\n",
       "       [ True],\n",
       "       [ True],\n",
       "       [ True],\n",
       "       [ True],\n",
       "       [ True],\n",
       "       [ True],\n",
       "       [ True],\n",
       "       [ True],\n",
       "       [ True],\n",
       "       [ True],\n",
       "       [ True],\n",
       "       [ True],\n",
       "       [ True],\n",
       "       [ True],\n",
       "       [ True],\n",
       "       [ True],\n",
       "       [ True],\n",
       "       [ True],\n",
       "       [ True],\n",
       "       [ True],\n",
       "       [ True],\n",
       "       [ True],\n",
       "       [ True],\n",
       "       [ True],\n",
       "       [ True],\n",
       "       [ True],\n",
       "       [ True],\n",
       "       [ True],\n",
       "       [ True],\n",
       "       [ True],\n",
       "       [ True],\n",
       "       [ True],\n",
       "       [ True],\n",
       "       [ True],\n",
       "       [ True],\n",
       "       [ True],\n",
       "       [ True],\n",
       "       [ True],\n",
       "       [ True],\n",
       "       [ True],\n",
       "       [ True],\n",
       "       [ True],\n",
       "       [ True],\n",
       "       [ True],\n",
       "       [ True],\n",
       "       [ True],\n",
       "       [ True],\n",
       "       [ True],\n",
       "       [ True],\n",
       "       [ True],\n",
       "       [ True],\n",
       "       [ True],\n",
       "       [ True],\n",
       "       [ True],\n",
       "       [ True],\n",
       "       [ True],\n",
       "       [ True],\n",
       "       [ True],\n",
       "       [ True],\n",
       "       [ True],\n",
       "       [ True],\n",
       "       [ True],\n",
       "       [ True],\n",
       "       [ True],\n",
       "       [ True],\n",
       "       [ True],\n",
       "       [ True],\n",
       "       [ True],\n",
       "       [ True],\n",
       "       [ True],\n",
       "       [ True],\n",
       "       [ True],\n",
       "       [ True],\n",
       "       [ True],\n",
       "       [ True],\n",
       "       [ True],\n",
       "       [ True],\n",
       "       [ True],\n",
       "       [ True],\n",
       "       [ True],\n",
       "       [ True],\n",
       "       [ True],\n",
       "       [ True],\n",
       "       [ True],\n",
       "       [ True],\n",
       "       [ True],\n",
       "       [ True],\n",
       "       [ True],\n",
       "       [ True],\n",
       "       [ True],\n",
       "       [ True],\n",
       "       [ True],\n",
       "       [ True],\n",
       "       [ True],\n",
       "       [ True],\n",
       "       [ True],\n",
       "       [ True],\n",
       "       [ True],\n",
       "       [ True],\n",
       "       [ True],\n",
       "       [ True],\n",
       "       [ True],\n",
       "       [ True],\n",
       "       [ True],\n",
       "       [ True],\n",
       "       [ True],\n",
       "       [ True],\n",
       "       [ True],\n",
       "       [ True],\n",
       "       [ True],\n",
       "       [ True],\n",
       "       [ True],\n",
       "       [ True],\n",
       "       [ True],\n",
       "       [ True],\n",
       "       [ True],\n",
       "       [ True],\n",
       "       [ True],\n",
       "       [ True],\n",
       "       [ True],\n",
       "       [ True],\n",
       "       [ True],\n",
       "       [ True],\n",
       "       [ True],\n",
       "       [ True],\n",
       "       [ True],\n",
       "       [ True],\n",
       "       [ True],\n",
       "       [ True],\n",
       "       [ True],\n",
       "       [ True],\n",
       "       [ True],\n",
       "       [ True],\n",
       "       [ True],\n",
       "       [ True],\n",
       "       [ True],\n",
       "       [ True],\n",
       "       [ True],\n",
       "       [ True],\n",
       "       [ True],\n",
       "       [ True],\n",
       "       [ True],\n",
       "       [ True],\n",
       "       [ True],\n",
       "       [ True],\n",
       "       [ True],\n",
       "       [ True],\n",
       "       [ True],\n",
       "       [ True],\n",
       "       [ True],\n",
       "       [ True],\n",
       "       [ True],\n",
       "       [ True],\n",
       "       [ True],\n",
       "       [ True],\n",
       "       [ True],\n",
       "       [ True],\n",
       "       [ True],\n",
       "       [ True],\n",
       "       [ True],\n",
       "       [ True],\n",
       "       [ True],\n",
       "       [ True],\n",
       "       [ True],\n",
       "       [ True],\n",
       "       [ True],\n",
       "       [ True],\n",
       "       [ True],\n",
       "       [ True],\n",
       "       [ True],\n",
       "       [ True],\n",
       "       [ True],\n",
       "       [ True],\n",
       "       [ True],\n",
       "       [ True],\n",
       "       [ True],\n",
       "       [ True],\n",
       "       [ True],\n",
       "       [ True],\n",
       "       [ True],\n",
       "       [ True],\n",
       "       [ True],\n",
       "       [ True],\n",
       "       [ True],\n",
       "       [ True],\n",
       "       [ True],\n",
       "       [ True],\n",
       "       [ True],\n",
       "       [ True],\n",
       "       [ True],\n",
       "       [ True],\n",
       "       [ True],\n",
       "       [ True],\n",
       "       [ True],\n",
       "       [ True],\n",
       "       [ True],\n",
       "       [ True],\n",
       "       [ True],\n",
       "       [ True],\n",
       "       [ True],\n",
       "       [ True],\n",
       "       [ True],\n",
       "       [ True],\n",
       "       [ True],\n",
       "       [ True],\n",
       "       [ True],\n",
       "       [ True],\n",
       "       [ True],\n",
       "       [ True],\n",
       "       [ True],\n",
       "       [ True],\n",
       "       [ True],\n",
       "       [ True],\n",
       "       [ True],\n",
       "       [ True],\n",
       "       [ True],\n",
       "       [ True],\n",
       "       [ True],\n",
       "       [ True],\n",
       "       [ True],\n",
       "       [ True],\n",
       "       [ True],\n",
       "       [ True],\n",
       "       [ True],\n",
       "       [ True],\n",
       "       [ True],\n",
       "       [ True],\n",
       "       [ True],\n",
       "       [ True],\n",
       "       [ True],\n",
       "       [ True],\n",
       "       [ True],\n",
       "       [ True],\n",
       "       [ True],\n",
       "       [ True],\n",
       "       [ True],\n",
       "       [ True],\n",
       "       [ True],\n",
       "       [ True],\n",
       "       [ True],\n",
       "       [ True],\n",
       "       [ True],\n",
       "       [ True],\n",
       "       [ True],\n",
       "       [ True],\n",
       "       [ True],\n",
       "       [ True],\n",
       "       [ True],\n",
       "       [ True],\n",
       "       [ True],\n",
       "       [ True],\n",
       "       [ True],\n",
       "       [ True],\n",
       "       [ True],\n",
       "       [ True],\n",
       "       [ True],\n",
       "       [ True],\n",
       "       [ True],\n",
       "       [ True],\n",
       "       [ True],\n",
       "       [ True],\n",
       "       [ True],\n",
       "       [ True],\n",
       "       [ True],\n",
       "       [ True],\n",
       "       [ True],\n",
       "       [ True],\n",
       "       [ True],\n",
       "       [ True],\n",
       "       [ True],\n",
       "       [ True],\n",
       "       [ True],\n",
       "       [ True],\n",
       "       [ True],\n",
       "       [ True],\n",
       "       [ True],\n",
       "       [ True],\n",
       "       [ True],\n",
       "       [ True],\n",
       "       [ True],\n",
       "       [ True],\n",
       "       [ True],\n",
       "       [ True],\n",
       "       [ True],\n",
       "       [ True],\n",
       "       [ True],\n",
       "       [ True],\n",
       "       [ True],\n",
       "       [ True],\n",
       "       [ True],\n",
       "       [ True],\n",
       "       [ True],\n",
       "       [ True],\n",
       "       [ True],\n",
       "       [ True],\n",
       "       [ True],\n",
       "       [ True],\n",
       "       [ True],\n",
       "       [ True],\n",
       "       [ True],\n",
       "       [ True],\n",
       "       [ True],\n",
       "       [ True],\n",
       "       [ True],\n",
       "       [ True],\n",
       "       [ True],\n",
       "       [ True],\n",
       "       [ True],\n",
       "       [ True],\n",
       "       [ True],\n",
       "       [ True],\n",
       "       [ True],\n",
       "       [ True],\n",
       "       [ True],\n",
       "       [ True],\n",
       "       [ True],\n",
       "       [ True],\n",
       "       [ True],\n",
       "       [ True],\n",
       "       [ True],\n",
       "       [ True],\n",
       "       [ True],\n",
       "       [ True],\n",
       "       [ True],\n",
       "       [ True],\n",
       "       [ True],\n",
       "       [ True],\n",
       "       [ True],\n",
       "       [ True],\n",
       "       [ True],\n",
       "       [ True],\n",
       "       [ True],\n",
       "       [ True],\n",
       "       [ True]], dtype=bool)"
      ]
     },
     "execution_count": 34,
     "metadata": {},
     "output_type": "execute_result"
    }
   ],
   "source": [
    "new_ypred==Y_pred"
   ]
  },
  {
   "cell_type": "markdown",
   "metadata": {},
   "source": [
    "## Prediction of weather a person is likely to have Diabetes based on his features"
   ]
  },
  {
   "cell_type": "code",
   "execution_count": null,
   "metadata": {
    "collapsed": false
   },
   "outputs": [],
   "source": [
    "df[features].head()\n"
   ]
  },
  {
   "cell_type": "code",
   "execution_count": null,
   "metadata": {
    "collapsed": false
   },
   "outputs": [],
   "source": [
    "a=[]\n",
    "columns=[\"Glucose_conc\",\"BP\",\"Insulin\",\"BMI\",\"diab_ped\",\"Age\"]\n",
    "no_of_persons=int(raw_input(\"No of persons\"))\n",
    "for j in range(no_of_persons):\n",
    "    c=[]\n",
    "    a.append(c)\n",
    "    for i in columns:\n",
    "        d=float(raw_input(\"Values of \"+str(i)))\n",
    "        c.append(d)"
   ]
  },
  {
   "cell_type": "code",
   "execution_count": null,
   "metadata": {
    "collapsed": false
   },
   "outputs": [],
   "source": [
    "df1=pd.DataFrame(a,columns=columns)"
   ]
  },
  {
   "cell_type": "code",
   "execution_count": null,
   "metadata": {
    "collapsed": false
   },
   "outputs": [],
   "source": [
    "X_new=df1.values"
   ]
  },
  {
   "cell_type": "code",
   "execution_count": null,
   "metadata": {
    "collapsed": false
   },
   "outputs": [],
   "source": [
    "for j in X_new:\n",
    "    a=logit.predict(j.reshape(1,-1))\n",
    "    if a==1:\n",
    "        print \"Person has diabetes\"\n",
    "    elif a==0:\n",
    "        print \"Person does not have diabetes\""
   ]
  },
  {
   "cell_type": "code",
   "execution_count": 180,
   "metadata": {
    "collapsed": false
   },
   "outputs": [
    {
     "data": {
      "text/html": [
       "<div style=\"max-height:1000px;max-width:1500px;overflow:auto;\">\n",
       "<table border=\"1\" class=\"dataframe\">\n",
       "  <thead>\n",
       "    <tr style=\"text-align: right;\">\n",
       "      <th></th>\n",
       "      <th>PATNO</th>\n",
       "      <th>PAG_NAME</th>\n",
       "      <th>NP3SPCH</th>\n",
       "      <th>NP3FACXP</th>\n",
       "      <th>NP3RIGN</th>\n",
       "      <th>NP3RIGRU</th>\n",
       "      <th>NP3RIGLU</th>\n",
       "      <th>PN3RIGRL</th>\n",
       "      <th>NP3RIGLL</th>\n",
       "      <th>NP3FTAPR</th>\n",
       "      <th>...</th>\n",
       "      <th>NP3RTALU</th>\n",
       "      <th>NP3RTARL</th>\n",
       "      <th>NP3RTALL</th>\n",
       "      <th>NP3RTALJ</th>\n",
       "      <th>NP3RTCON</th>\n",
       "      <th>DYSKPRES</th>\n",
       "      <th>DYSKIRAT</th>\n",
       "      <th>NHY</th>\n",
       "      <th>PD_MED_USE</th>\n",
       "      <th>DIAG</th>\n",
       "    </tr>\n",
       "  </thead>\n",
       "  <tbody>\n",
       "    <tr>\n",
       "      <th>0</th>\n",
       "      <td> 3816</td>\n",
       "      <td> NUPDRS3</td>\n",
       "      <td> 0</td>\n",
       "      <td> 0</td>\n",
       "      <td> 0</td>\n",
       "      <td> 0</td>\n",
       "      <td> 0</td>\n",
       "      <td> 0</td>\n",
       "      <td> 0</td>\n",
       "      <td> 0</td>\n",
       "      <td>...</td>\n",
       "      <td> 0</td>\n",
       "      <td> 0</td>\n",
       "      <td> 0</td>\n",
       "      <td> 0</td>\n",
       "      <td> 0</td>\n",
       "      <td> 0</td>\n",
       "      <td>NaN</td>\n",
       "      <td> 0</td>\n",
       "      <td> 0</td>\n",
       "      <td> NotPD</td>\n",
       "    </tr>\n",
       "    <tr>\n",
       "      <th>1</th>\n",
       "      <td> 3762</td>\n",
       "      <td> NUPDRS3</td>\n",
       "      <td> 0</td>\n",
       "      <td> 1</td>\n",
       "      <td> 0</td>\n",
       "      <td> 1</td>\n",
       "      <td> 1</td>\n",
       "      <td> 0</td>\n",
       "      <td> 0</td>\n",
       "      <td> 1</td>\n",
       "      <td>...</td>\n",
       "      <td> 0</td>\n",
       "      <td> 0</td>\n",
       "      <td> 0</td>\n",
       "      <td> 0</td>\n",
       "      <td> 1</td>\n",
       "      <td> 1</td>\n",
       "      <td>  1</td>\n",
       "      <td> 2</td>\n",
       "      <td> 0</td>\n",
       "      <td>    PD</td>\n",
       "    </tr>\n",
       "    <tr>\n",
       "      <th>2</th>\n",
       "      <td> 3765</td>\n",
       "      <td> NUPDRS3</td>\n",
       "      <td> 0</td>\n",
       "      <td> 0</td>\n",
       "      <td> 0</td>\n",
       "      <td> 0</td>\n",
       "      <td> 0</td>\n",
       "      <td> 0</td>\n",
       "      <td> 0</td>\n",
       "      <td> 0</td>\n",
       "      <td>...</td>\n",
       "      <td> 0</td>\n",
       "      <td> 0</td>\n",
       "      <td> 0</td>\n",
       "      <td> 0</td>\n",
       "      <td> 0</td>\n",
       "      <td> 0</td>\n",
       "      <td>NaN</td>\n",
       "      <td> 0</td>\n",
       "      <td> 0</td>\n",
       "      <td> NotPD</td>\n",
       "    </tr>\n",
       "    <tr>\n",
       "      <th>3</th>\n",
       "      <td> 3075</td>\n",
       "      <td> NUPDRS3</td>\n",
       "      <td> 0</td>\n",
       "      <td> 0</td>\n",
       "      <td> 0</td>\n",
       "      <td> 0</td>\n",
       "      <td> 0</td>\n",
       "      <td> 0</td>\n",
       "      <td> 0</td>\n",
       "      <td> 1</td>\n",
       "      <td>...</td>\n",
       "      <td> 0</td>\n",
       "      <td> 0</td>\n",
       "      <td> 0</td>\n",
       "      <td> 0</td>\n",
       "      <td> 0</td>\n",
       "      <td> 0</td>\n",
       "      <td>NaN</td>\n",
       "      <td> 0</td>\n",
       "      <td> 0</td>\n",
       "      <td> NotPD</td>\n",
       "    </tr>\n",
       "    <tr>\n",
       "      <th>4</th>\n",
       "      <td> 3760</td>\n",
       "      <td> NUPDRS3</td>\n",
       "      <td> 1</td>\n",
       "      <td> 1</td>\n",
       "      <td> 1</td>\n",
       "      <td> 0</td>\n",
       "      <td> 1</td>\n",
       "      <td> 0</td>\n",
       "      <td> 0</td>\n",
       "      <td> 1</td>\n",
       "      <td>...</td>\n",
       "      <td> 0</td>\n",
       "      <td> 0</td>\n",
       "      <td> 0</td>\n",
       "      <td> 0</td>\n",
       "      <td> 0</td>\n",
       "      <td> 0</td>\n",
       "      <td>NaN</td>\n",
       "      <td> 2</td>\n",
       "      <td> 0</td>\n",
       "      <td>    PD</td>\n",
       "    </tr>\n",
       "  </tbody>\n",
       "</table>\n",
       "<p>5 rows × 40 columns</p>\n",
       "</div>"
      ],
      "text/plain": [
       "   PATNO PAG_NAME  NP3SPCH  NP3FACXP  NP3RIGN  NP3RIGRU  NP3RIGLU  PN3RIGRL  \\\n",
       "0   3816  NUPDRS3        0         0        0         0         0         0   \n",
       "1   3762  NUPDRS3        0         1        0         1         1         0   \n",
       "2   3765  NUPDRS3        0         0        0         0         0         0   \n",
       "3   3075  NUPDRS3        0         0        0         0         0         0   \n",
       "4   3760  NUPDRS3        1         1        1         0         1         0   \n",
       "\n",
       "   NP3RIGLL  NP3FTAPR    ...     NP3RTALU  NP3RTARL  NP3RTALL  NP3RTALJ  \\\n",
       "0         0         0    ...            0         0         0         0   \n",
       "1         0         1    ...            0         0         0         0   \n",
       "2         0         0    ...            0         0         0         0   \n",
       "3         0         1    ...            0         0         0         0   \n",
       "4         0         1    ...            0         0         0         0   \n",
       "\n",
       "   NP3RTCON  DYSKPRES  DYSKIRAT  NHY  PD_MED_USE   DIAG  \n",
       "0         0         0       NaN    0           0  NotPD  \n",
       "1         1         1         1    2           0     PD  \n",
       "2         0         0       NaN    0           0  NotPD  \n",
       "3         0         0       NaN    0           0  NotPD  \n",
       "4         0         0       NaN    2           0     PD  \n",
       "\n",
       "[5 rows x 40 columns]"
      ]
     },
     "execution_count": 180,
     "metadata": {},
     "output_type": "execute_result"
    }
   ],
   "source": [
    "df.head(5)"
   ]
  },
  {
   "cell_type": "code",
   "execution_count": 181,
   "metadata": {
    "collapsed": false
   },
   "outputs": [
    {
     "data": {
      "text/plain": [
       "NUPDRS3     1256\n",
       "NUPDRS3A      91\n",
       "dtype: int64"
      ]
     },
     "execution_count": 181,
     "metadata": {},
     "output_type": "execute_result"
    }
   ],
   "source": [
    "df[\"PAG_NAME\"].value_counts()"
   ]
  },
  {
   "cell_type": "code",
   "execution_count": 182,
   "metadata": {
    "collapsed": true
   },
   "outputs": [],
   "source": [
    "am=df[df.PAG_NAME==\"NUPDRS3A\"]"
   ]
  },
  {
   "cell_type": "code",
   "execution_count": 187,
   "metadata": {
    "collapsed": false
   },
   "outputs": [],
   "source": [
    "am.to_csv(\"Aftermedicationbaselineupdrs3.csv\")"
   ]
  },
  {
   "cell_type": "code",
   "execution_count": 185,
   "metadata": {
    "collapsed": true
   },
   "outputs": [],
   "source": [
    "bf=df[df.PAG_NAME==\"NUPDRS3\"]"
   ]
  },
  {
   "cell_type": "code",
   "execution_count": 188,
   "metadata": {
    "collapsed": true
   },
   "outputs": [],
   "source": [
    "bf.to_csv(\"Beforemedicationbaselineupdrs3.csv\")"
   ]
  },
  {
   "cell_type": "code",
   "execution_count": 288,
   "metadata": {
    "collapsed": true
   },
   "outputs": [],
   "source": [
    "def finction(x):\n",
    "    if str(x) == \"PD\":\n",
    "        return int(1)\n",
    "    else:\n",
    "        return 0"
   ]
  },
  {
   "cell_type": "code",
   "execution_count": 295,
   "metadata": {
    "collapsed": false
   },
   "outputs": [],
   "source": [
    "df[\"DIAG\"]=df[\"DIAG\"].apply(finction)"
   ]
  },
  {
   "cell_type": "code",
   "execution_count": 308,
   "metadata": {
    "collapsed": false
   },
   "outputs": [],
   "source": [
    "df.to_csv(\"combinedadaptedforlogit.csv\")"
   ]
  },
  {
   "cell_type": "code",
   "execution_count": 44,
   "metadata": {
    "collapsed": true
   },
   "outputs": [],
   "source": [
    "df = pd.DataFrame([[1,2,3],[2,4,5],[3,1,4],[4,2,0]],columns=['A','B','C'])"
   ]
  },
  {
   "cell_type": "code",
   "execution_count": 46,
   "metadata": {
    "collapsed": false
   },
   "outputs": [
    {
     "data": {
      "text/html": [
       "<div style=\"max-height:1000px;max-width:1500px;overflow:auto;\">\n",
       "<table border=\"1\" class=\"dataframe\">\n",
       "  <thead>\n",
       "    <tr style=\"text-align: right;\">\n",
       "      <th></th>\n",
       "      <th>A</th>\n",
       "      <th>B</th>\n",
       "      <th>C</th>\n",
       "    </tr>\n",
       "  </thead>\n",
       "  <tbody>\n",
       "    <tr>\n",
       "      <th>0</th>\n",
       "      <td> 1</td>\n",
       "      <td> 2</td>\n",
       "      <td> 3</td>\n",
       "    </tr>\n",
       "    <tr>\n",
       "      <th>1</th>\n",
       "      <td> 2</td>\n",
       "      <td> 4</td>\n",
       "      <td> 5</td>\n",
       "    </tr>\n",
       "    <tr>\n",
       "      <th>2</th>\n",
       "      <td> 3</td>\n",
       "      <td> 1</td>\n",
       "      <td> 4</td>\n",
       "    </tr>\n",
       "    <tr>\n",
       "      <th>3</th>\n",
       "      <td> 4</td>\n",
       "      <td> 2</td>\n",
       "      <td> 0</td>\n",
       "    </tr>\n",
       "  </tbody>\n",
       "</table>\n",
       "</div>"
      ],
      "text/plain": [
       "   A  B  C\n",
       "0  1  2  3\n",
       "1  2  4  5\n",
       "2  3  1  4\n",
       "3  4  2  0"
      ]
     },
     "execution_count": 46,
     "metadata": {},
     "output_type": "execute_result"
    }
   ],
   "source": [
    "df"
   ]
  },
  {
   "cell_type": "code",
   "execution_count": 29,
   "metadata": {
    "collapsed": false
   },
   "outputs": [
    {
     "data": {
      "text/html": [
       "<div style=\"max-height:1000px;max-width:1500px;overflow:auto;\">\n",
       "<table border=\"1\" class=\"dataframe\">\n",
       "  <thead>\n",
       "    <tr style=\"text-align: right;\">\n",
       "      <th></th>\n",
       "      <th>A</th>\n",
       "      <th>B</th>\n",
       "      <th>C</th>\n",
       "    </tr>\n",
       "  </thead>\n",
       "  <tbody>\n",
       "    <tr>\n",
       "      <th>1</th>\n",
       "      <td> 2</td>\n",
       "      <td> 4</td>\n",
       "      <td> 5</td>\n",
       "    </tr>\n",
       "    <tr>\n",
       "      <th>2</th>\n",
       "      <td> 3</td>\n",
       "      <td> 1</td>\n",
       "      <td> 4</td>\n",
       "    </tr>\n",
       "    <tr>\n",
       "      <th>3</th>\n",
       "      <td> 4</td>\n",
       "      <td> 2</td>\n",
       "      <td> 1</td>\n",
       "    </tr>\n",
       "  </tbody>\n",
       "</table>\n",
       "</div>"
      ],
      "text/plain": [
       "   A  B  C\n",
       "1  2  4  5\n",
       "2  3  1  4\n",
       "3  4  2  1"
      ]
     },
     "execution_count": 29,
     "metadata": {},
     "output_type": "execute_result"
    }
   ],
   "source": [
    "df[df.A> 1] "
   ]
  },
  {
   "cell_type": "code",
   "execution_count": 48,
   "metadata": {
    "collapsed": false
   },
   "outputs": [
    {
     "data": {
      "text/html": [
       "<div style=\"max-height:1000px;max-width:1500px;overflow:auto;\">\n",
       "<table border=\"1\" class=\"dataframe\">\n",
       "  <thead>\n",
       "    <tr style=\"text-align: right;\">\n",
       "      <th></th>\n",
       "      <th>A</th>\n",
       "      <th>B</th>\n",
       "      <th>C</th>\n",
       "    </tr>\n",
       "  </thead>\n",
       "  <tbody>\n",
       "    <tr>\n",
       "      <th>1</th>\n",
       "      <td> 2</td>\n",
       "      <td> 4</td>\n",
       "      <td> 5</td>\n",
       "    </tr>\n",
       "    <tr>\n",
       "      <th>2</th>\n",
       "      <td> 3</td>\n",
       "      <td> 1</td>\n",
       "      <td> 4</td>\n",
       "    </tr>\n",
       "    <tr>\n",
       "      <th>3</th>\n",
       "      <td> 4</td>\n",
       "      <td> 2</td>\n",
       "      <td> 0</td>\n",
       "    </tr>\n",
       "  </tbody>\n",
       "</table>\n",
       "</div>"
      ],
      "text/plain": [
       "   A  B  C\n",
       "1  2  4  5\n",
       "2  3  1  4\n",
       "3  4  2  0"
      ]
     },
     "execution_count": 48,
     "metadata": {},
     "output_type": "execute_result"
    }
   ],
   "source": [
    "df[(df > 3).any(axis=1)]"
   ]
  },
  {
   "cell_type": "code",
   "execution_count": 55,
   "metadata": {
    "collapsed": false
   },
   "outputs": [
    {
     "name": "stdout",
     "output_type": "stream",
     "text": [
      "   A  B  C\n",
      "1  2  4  5\n",
      "2  3  1  4\n",
      "3  4  2  0\n",
      "   A  B  C\n",
      "0  1  2  3\n",
      "1  2  4  5\n",
      "3  4  2  0\n",
      "   A  B  C\n",
      "0  1  2  3\n",
      "1  2  4  5\n",
      "2  3  1  4\n"
     ]
    }
   ],
   "source": [
    "for i in df.columns:\n",
    "    print df[df[str(i)]>1]"
   ]
  },
  {
   "cell_type": "code",
   "execution_count": 8,
   "metadata": {
    "collapsed": false
   },
   "outputs": [
    {
     "data": {
      "text/plain": [
       "NP3SPCH       0.579451\n",
       "NP3RIGN       0.705055\n",
       "PN3RIGRL      0.673202\n",
       "NP3RIGLL      0.678561\n",
       "NP3HMOVR      0.754965\n",
       "NP3HMOVL      0.800974\n",
       "NP3LGAGR      0.670119\n",
       "NP3LGAGL      0.730836\n",
       "NP3RISNG      0.532292\n",
       "NP3GAIT       0.695233\n",
       "NP3FRZGT      0.339970\n",
       "NP3PSTBL      0.594924\n",
       "NP3POSTR      0.682119\n",
       "NP3BRADY      0.847141\n",
       "NP3PTRMR      0.516222\n",
       "NP3PTRML      0.506818\n",
       "NP3KTRMR      0.471445\n",
       "NP3KTRML      0.510347\n",
       "NP3RTARU      0.713903\n",
       "NP3RTALU      0.623769\n",
       "NP3RTARL      0.360840\n",
       "NP3RTALL      0.330760\n",
       "NP3RTALJ      0.225927\n",
       "NP3RTCON      1.085024\n",
       "DYSKPRES      0.186078\n",
       "PD_MED_USE    1.424323\n",
       "dtype: float64"
      ]
     },
     "execution_count": 8,
     "metadata": {},
     "output_type": "execute_result"
    }
   ],
   "source": [
    "df.std()"
   ]
  },
  {
   "cell_type": "code",
   "execution_count": 13,
   "metadata": {
    "collapsed": false
   },
   "outputs": [
    {
     "data": {
      "text/plain": [
       "Index([u'NP3FACXP', u'NP3SPCH', u'NP3RIGN', u'NP3RIGRU', u'NP3RIGLU', u'PN3RIGRL', u'NP3RIGLL', u'NP3FTAPR', u'NP3FTAPL', u'NP3HMOVR', u'NP3HMOVL', u'NP3PRSPR', u'NP3PRSPL', u'NP3TTAPR', u'NP3TTAPL', u'NP3LGAGR', u'NP3LGAGL', u'NP3RISNG', u'NP3GAIT', u'NP3FRZGT', u'NP3PSTBL', u'NP3POSTR', u'NP3BRADY', u'NP3PTRMR', u'NP3PTRML', u'NP3KTRMR', u'NP3KTRML', u'NP3RTARU', u'NP3RTALU', u'NP3RTARL', u'NP3RTALL', u'NP3RTALJ', u'NP3RTCON', u'DYSKPRES', u'NHY', u'PD_MED_USE', u'DIAG'], dtype='object')"
      ]
     },
     "execution_count": 13,
     "metadata": {},
     "output_type": "execute_result"
    }
   ],
   "source": [
    "df.columns"
   ]
  },
  {
   "cell_type": "code",
   "execution_count": null,
   "metadata": {
    "collapsed": true
   },
   "outputs": [],
   "source": []
  }
 ],
 "metadata": {
  "kernelspec": {
   "display_name": "Python 2",
   "language": "python",
   "name": "python2"
  },
  "language_info": {
   "codemirror_mode": {
    "name": "ipython",
    "version": 2
   },
   "file_extension": ".py",
   "mimetype": "text/x-python",
   "name": "python",
   "nbconvert_exporter": "python",
   "pygments_lexer": "ipython2",
   "version": "2.7.9"
  }
 },
 "nbformat": 4,
 "nbformat_minor": 0
}
